{
 "cells": [
  {
   "cell_type": "code",
   "execution_count": 7,
   "metadata": {},
   "outputs": [],
   "source": [
    "#Imports\n",
    "import pandas as pd\n",
    "import numpy as np\n",
    "from sklearn.model_selection import train_test_split, KFold\n",
    "from sklearn.ensemble import RandomForestRegressor, GradientBoostingRegressor\n",
    "from sklearn.metrics import mean_squared_error"
   ]
  },
  {
   "cell_type": "markdown",
   "metadata": {},
   "source": [
    "**This Notebook is a preliminary test for looking at the differences between various ML models.**\n",
    "\n",
    "Outline of Tests:\n",
    "\n",
    "#1 Gradient Boosting Regressor predicting number of ships sunk for convoys at sea greater than 10 days <br>\n",
    "#2 Random Forest Regressor predicting number of ships sunk for convoys at sea greater than 10 days <br>\n",
    "#3 Gradient Boosting Regressor predicting number of ships sunk for convoys at sea greater than 5 days <br>\n",
    "#4 Random Forest Regressor predicting number of ships sunk for convoys at sea greater than 5 days <br>\n",
    "\n",
    "#5 Gradient Boosting Regressor predicting overall sink percentage for convoys at sea greater than 10 days <br>\n",
    "#6 Random Forest Regressor predicting overall sink percentage for convoys at sea greater than 10 days <br>\n",
    "#7 Gradient Boosting Regressor predicting overall sink percentage for convoys at sea greater than 5 days <br>\n",
    "#8 Random Forest Regressor predicting overall sink percentage for convoys at sea greater than 5 days <br>\n",
    "\n",
    "\n",
    "Note: These are all regressor models and not the typically classification done for this project. This is done to test differences between models and classifiers and also to identify changes when the time at sea is changed from greater than 10 to greater than 5 days.  "
   ]
  },
  {
   "cell_type": "code",
   "execution_count": 4,
   "metadata": {},
   "outputs": [
    {
     "data": {
      "text/html": [
       "<div>\n",
       "<style scoped>\n",
       "    .dataframe tbody tr th:only-of-type {\n",
       "        vertical-align: middle;\n",
       "    }\n",
       "\n",
       "    .dataframe tbody tr th {\n",
       "        vertical-align: top;\n",
       "    }\n",
       "\n",
       "    .dataframe thead th {\n",
       "        text-align: right;\n",
       "    }\n",
       "</style>\n",
       "<table border=\"1\" class=\"dataframe\">\n",
       "  <thead>\n",
       "    <tr style=\"text-align: right;\">\n",
       "      <th></th>\n",
       "      <th>Convoy Number</th>\n",
       "      <th>Number of Ships</th>\n",
       "      <th>Number of Escort Ships</th>\n",
       "      <th>Number of Stragglers</th>\n",
       "      <th>Number of Ships Sunk</th>\n",
       "      <th>Number of Escorts Sunk</th>\n",
       "      <th>Number of Stragglers Sunk</th>\n",
       "      <th>Total Tons of Convoy</th>\n",
       "      <th>Total Tons of Ships Sunk</th>\n",
       "      <th>Depart_Date</th>\n",
       "      <th>...</th>\n",
       "      <th>Overall Sink Percentage</th>\n",
       "      <th>Escort Sink Percentage</th>\n",
       "      <th>Straggler Sink Percentage</th>\n",
       "      <th>Avg Number of U-Boats in Atlantic</th>\n",
       "      <th>Escort Ratio</th>\n",
       "      <th>Time At Sea (Days)</th>\n",
       "      <th>Month</th>\n",
       "      <th>Year</th>\n",
       "      <th>Previous Month Avg Sink %</th>\n",
       "      <th>Approx. Sighting Range</th>\n",
       "    </tr>\n",
       "  </thead>\n",
       "  <tbody>\n",
       "    <tr>\n",
       "      <th>0</th>\n",
       "      <td>OB.1</td>\n",
       "      <td>5.0</td>\n",
       "      <td>2.0</td>\n",
       "      <td>0.0</td>\n",
       "      <td>0.0</td>\n",
       "      <td>0.0</td>\n",
       "      <td>0.0</td>\n",
       "      <td>22877.0</td>\n",
       "      <td>0.0</td>\n",
       "      <td>1939-09-07 00:00:00</td>\n",
       "      <td>...</td>\n",
       "      <td>0.0</td>\n",
       "      <td>0.0</td>\n",
       "      <td>0.0</td>\n",
       "      <td>6.0</td>\n",
       "      <td>0.400000</td>\n",
       "      <td>3.0</td>\n",
       "      <td>9.0</td>\n",
       "      <td>1939.0</td>\n",
       "      <td>0.0</td>\n",
       "      <td>12.190200</td>\n",
       "    </tr>\n",
       "    <tr>\n",
       "      <th>1</th>\n",
       "      <td>OB.2</td>\n",
       "      <td>5.0</td>\n",
       "      <td>2.0</td>\n",
       "      <td>0.0</td>\n",
       "      <td>0.0</td>\n",
       "      <td>0.0</td>\n",
       "      <td>0.0</td>\n",
       "      <td>22967.0</td>\n",
       "      <td>0.0</td>\n",
       "      <td>1939-09-09 00:00:00</td>\n",
       "      <td>...</td>\n",
       "      <td>0.0</td>\n",
       "      <td>0.0</td>\n",
       "      <td>0.0</td>\n",
       "      <td>6.0</td>\n",
       "      <td>0.400000</td>\n",
       "      <td>5.0</td>\n",
       "      <td>9.0</td>\n",
       "      <td>1939.0</td>\n",
       "      <td>0.0</td>\n",
       "      <td>12.190200</td>\n",
       "    </tr>\n",
       "    <tr>\n",
       "      <th>2</th>\n",
       "      <td>OB.3</td>\n",
       "      <td>7.0</td>\n",
       "      <td>4.0</td>\n",
       "      <td>0.0</td>\n",
       "      <td>0.0</td>\n",
       "      <td>0.0</td>\n",
       "      <td>0.0</td>\n",
       "      <td>21293.0</td>\n",
       "      <td>0.0</td>\n",
       "      <td>1939-09-11 00:00:00</td>\n",
       "      <td>...</td>\n",
       "      <td>0.0</td>\n",
       "      <td>0.0</td>\n",
       "      <td>0.0</td>\n",
       "      <td>6.0</td>\n",
       "      <td>0.571429</td>\n",
       "      <td>5.0</td>\n",
       "      <td>9.0</td>\n",
       "      <td>1939.0</td>\n",
       "      <td>0.0</td>\n",
       "      <td>14.434062</td>\n",
       "    </tr>\n",
       "  </tbody>\n",
       "</table>\n",
       "<p>3 rows × 21 columns</p>\n",
       "</div>"
      ],
      "text/plain": [
       "  Convoy Number  Number of Ships  Number of Escort Ships  \\\n",
       "0          OB.1              5.0                     2.0   \n",
       "1          OB.2              5.0                     2.0   \n",
       "2          OB.3              7.0                     4.0   \n",
       "\n",
       "   Number of Stragglers  Number of Ships Sunk  Number of Escorts Sunk  \\\n",
       "0                   0.0                   0.0                     0.0   \n",
       "1                   0.0                   0.0                     0.0   \n",
       "2                   0.0                   0.0                     0.0   \n",
       "\n",
       "   Number of Stragglers Sunk  Total Tons of Convoy  Total Tons of Ships Sunk  \\\n",
       "0                        0.0               22877.0                       0.0   \n",
       "1                        0.0               22967.0                       0.0   \n",
       "2                        0.0               21293.0                       0.0   \n",
       "\n",
       "           Depart_Date  ... Overall Sink Percentage  Escort Sink Percentage  \\\n",
       "0  1939-09-07 00:00:00  ...                     0.0                     0.0   \n",
       "1  1939-09-09 00:00:00  ...                     0.0                     0.0   \n",
       "2  1939-09-11 00:00:00  ...                     0.0                     0.0   \n",
       "\n",
       "   Straggler Sink Percentage  Avg Number of U-Boats in Atlantic  Escort Ratio  \\\n",
       "0                        0.0                                6.0      0.400000   \n",
       "1                        0.0                                6.0      0.400000   \n",
       "2                        0.0                                6.0      0.571429   \n",
       "\n",
       "   Time At Sea (Days)  Month    Year  Previous Month Avg Sink %  \\\n",
       "0                 3.0    9.0  1939.0                        0.0   \n",
       "1                 5.0    9.0  1939.0                        0.0   \n",
       "2                 5.0    9.0  1939.0                        0.0   \n",
       "\n",
       "   Approx. Sighting Range  \n",
       "0               12.190200  \n",
       "1               12.190200  \n",
       "2               14.434062  \n",
       "\n",
       "[3 rows x 21 columns]"
      ]
     },
     "execution_count": 4,
     "metadata": {},
     "output_type": "execute_result"
    }
   ],
   "source": [
    "#Complied data of convoys\n",
    "#Routes examined are HX, SC, OB, ON, ONS\n",
    "df = pd.read_csv('Complete_Convoy_Data.csv')\n",
    "df = df.drop(columns=['Unnamed: 0'])\n",
    "df.shape\n",
    "df.head(3)"
   ]
  },
  {
   "cell_type": "code",
   "execution_count": 18,
   "metadata": {},
   "outputs": [
    {
     "data": {
      "text/html": [
       "<div>\n",
       "<style scoped>\n",
       "    .dataframe tbody tr th:only-of-type {\n",
       "        vertical-align: middle;\n",
       "    }\n",
       "\n",
       "    .dataframe tbody tr th {\n",
       "        vertical-align: top;\n",
       "    }\n",
       "\n",
       "    .dataframe thead th {\n",
       "        text-align: right;\n",
       "    }\n",
       "</style>\n",
       "<table border=\"1\" class=\"dataframe\">\n",
       "  <thead>\n",
       "    <tr style=\"text-align: right;\">\n",
       "      <th></th>\n",
       "      <th>Number of Ships</th>\n",
       "      <th>Number of Escort Ships</th>\n",
       "      <th>Number of Stragglers</th>\n",
       "      <th>Total Tons of Convoy</th>\n",
       "      <th>Overall Sink Percentage</th>\n",
       "      <th>Avg Number of U-Boats in Atlantic</th>\n",
       "      <th>Escort Ratio</th>\n",
       "      <th>Time At Sea (Days)</th>\n",
       "      <th>Month</th>\n",
       "      <th>Year</th>\n",
       "      <th>Previous Month Avg Sink %</th>\n",
       "      <th>Approx. Sighting Range</th>\n",
       "    </tr>\n",
       "  </thead>\n",
       "  <tbody>\n",
       "    <tr>\n",
       "      <th>0</th>\n",
       "      <td>5.0</td>\n",
       "      <td>2.0</td>\n",
       "      <td>0.0</td>\n",
       "      <td>22877.0</td>\n",
       "      <td>0.0</td>\n",
       "      <td>6.0</td>\n",
       "      <td>0.400000</td>\n",
       "      <td>3.0</td>\n",
       "      <td>9.0</td>\n",
       "      <td>1939.0</td>\n",
       "      <td>0.0</td>\n",
       "      <td>12.190200</td>\n",
       "    </tr>\n",
       "    <tr>\n",
       "      <th>1</th>\n",
       "      <td>5.0</td>\n",
       "      <td>2.0</td>\n",
       "      <td>0.0</td>\n",
       "      <td>22967.0</td>\n",
       "      <td>0.0</td>\n",
       "      <td>6.0</td>\n",
       "      <td>0.400000</td>\n",
       "      <td>5.0</td>\n",
       "      <td>9.0</td>\n",
       "      <td>1939.0</td>\n",
       "      <td>0.0</td>\n",
       "      <td>12.190200</td>\n",
       "    </tr>\n",
       "    <tr>\n",
       "      <th>2</th>\n",
       "      <td>7.0</td>\n",
       "      <td>4.0</td>\n",
       "      <td>0.0</td>\n",
       "      <td>21293.0</td>\n",
       "      <td>0.0</td>\n",
       "      <td>6.0</td>\n",
       "      <td>0.571429</td>\n",
       "      <td>5.0</td>\n",
       "      <td>9.0</td>\n",
       "      <td>1939.0</td>\n",
       "      <td>0.0</td>\n",
       "      <td>14.434062</td>\n",
       "    </tr>\n",
       "  </tbody>\n",
       "</table>\n",
       "</div>"
      ],
      "text/plain": [
       "   Number of Ships  Number of Escort Ships  Number of Stragglers  \\\n",
       "0              5.0                     2.0                   0.0   \n",
       "1              5.0                     2.0                   0.0   \n",
       "2              7.0                     4.0                   0.0   \n",
       "\n",
       "   Total Tons of Convoy  Overall Sink Percentage  \\\n",
       "0               22877.0                      0.0   \n",
       "1               22967.0                      0.0   \n",
       "2               21293.0                      0.0   \n",
       "\n",
       "   Avg Number of U-Boats in Atlantic  Escort Ratio  Time At Sea (Days)  Month  \\\n",
       "0                                6.0      0.400000                 3.0    9.0   \n",
       "1                                6.0      0.400000                 5.0    9.0   \n",
       "2                                6.0      0.571429                 5.0    9.0   \n",
       "\n",
       "     Year  Previous Month Avg Sink %  Approx. Sighting Range  \n",
       "0  1939.0                        0.0               12.190200  \n",
       "1  1939.0                        0.0               12.190200  \n",
       "2  1939.0                        0.0               14.434062  "
      ]
     },
     "execution_count": 18,
     "metadata": {},
     "output_type": "execute_result"
    }
   ],
   "source": [
    "#Dropping the features that are not needed or give away information\n",
    "df = df.drop(columns=['Convoy Number', 'Number of Ships Sunk', 'Depart_Date', 'Arrival/Dispersal Date', 'Number of Escorts Sunk', \\\n",
    "                         'Number of Stragglers Sunk', 'Total Tons of Ships Sunk', 'Escort Sink Percentage', 'Straggler Sink Percentage'])\n",
    "df.reset_index(drop=True).head(3)"
   ]
  },
  {
   "cell_type": "markdown",
   "metadata": {},
   "source": [
    "**Comparison of Using Overall Sink Percentage vs Number of Ships Sunk and Various cutoffs for time at sea (greater than 10 or 5 days). Time at sea cutoff changes the amount of data used.**"
   ]
  },
  {
   "cell_type": "code",
   "execution_count": 5,
   "metadata": {},
   "outputs": [],
   "source": [
    "#Only instances where the convoy was together for more than 10 days\n",
    "df_greater_than_10= df[df['Time At Sea (Days)'] > 10]\n",
    "#Removes 298 convoys \n",
    "\n",
    "#Only instances where the convoy was together for more than 5 days\n",
    "df_greater_than_5= df[df['Time At Sea (Days)'] > 5]\n",
    "#Removes 184 convoys"
   ]
  },
  {
   "cell_type": "code",
   "execution_count": 20,
   "metadata": {},
   "outputs": [],
   "source": [
    "#K-Fold Cross Validation Function\n",
    "def K_Fold(model, X, y, K, scaler=None, random_state=1945):\n",
    "    kf = KFold(n_splits=K, random_state=random_state, shuffle=True)\n",
    "    train_scores = []\n",
    "    test_scores = []\n",
    "    for idxTrain, idxTest in kf.split(X):\n",
    "        Xtrain = X[idxTrain]\n",
    "        Xtest = X[idxTest]\n",
    "        ytrain = y[idxTrain]\n",
    "        ytest = y[idxTest]\n",
    "        if scaler is not None:\n",
    "            Xtrain = scaler.fit_transform(Xtrain)\n",
    "            Xtest = scaler.transform(Xtest)\n",
    "        model.fit(Xtrain, ytrain)\n",
    "        train_scores.append(model.score(Xtrain, ytrain))\n",
    "        test_scores.append(model.score(Xtest, ytest))\n",
    "    return train_scores, test_scores"
   ]
  },
  {
   "cell_type": "code",
   "execution_count": 26,
   "metadata": {},
   "outputs": [
    {
     "data": {
      "text/plain": [
       "((702, 11), (176, 11), (702,), (176,))"
      ]
     },
     "execution_count": 26,
     "metadata": {},
     "output_type": "execute_result"
    }
   ],
   "source": [
    "#Train Test Split Greater than 10\n",
    "X_1 = np.array(df_greater_than_10.drop(columns=['Overall Sink Percentage']))\n",
    "y_1 = df_greater_than_10['Overall Sink Percentage'].values\n",
    "Xtrain, Xtest, ytrain, ytest = train_test_split(X_1, y_1, train_size=0.8, random_state=1945)\n",
    "(Xtrain.shape, Xtest.shape, ytrain.shape, ytest.shape)"
   ]
  },
  {
   "cell_type": "code",
   "execution_count": null,
   "metadata": {},
   "outputs": [
    {
     "name": "stdout",
     "output_type": "stream",
     "text": [
      "Gradient Boosting Regressor Train Score (Mean Accuracy): 0.8108159645821675\n",
      "Gradient Boosting Regressor Test Score (Mean Accuracy): 0.06908893514660186\n",
      "Gradient Boosting Regressor Mean Squared Error 13.343385511802069\n",
      "K-Fold Gradient Boosting Train Score (Mean R²): 0.7650187716574124\n",
      "K-Fold Gradient Boosting Test Score (Mean R²): -0.2242567375852599\n"
     ]
    }
   ],
   "source": [
    "#1\n",
    "\n",
    "#Gradient Boosting Regressor\n",
    "GB_model = GradientBoostingRegressor(random_state=1945)\n",
    "GB_model.fit(Xtrain, ytrain)\n",
    "ypredict = GB_model.predict(Xtest)\n",
    "GB_mse = mean_squared_error(ytest, ypredict)\n",
    "print('Gradient Boosting Regressor Train Score (Mean Accuracy):', GB_model.score(Xtrain, ytrain))\n",
    "print('Gradient Boosting Regressor Test Score (Mean Accuracy):', GB_model.score(Xtest, ytest))\n",
    "print('Gradient Boosting Regressor Mean Squared Error', GB_mse)\n",
    "train_scores, test_scores = K_Fold(GB_model, X_1, y_1, 10, )\n",
    "print('K-Fold Gradient Boosting Train Score (Mean R\\u00b2):', np.mean(train_scores))\n",
    "print('K-Fold Gradient Boosting Test Score (Mean R\\u00b2):',np.mean(test_scores))"
   ]
  },
  {
   "cell_type": "code",
   "execution_count": null,
   "metadata": {},
   "outputs": [
    {
     "name": "stdout",
     "output_type": "stream",
     "text": [
      "Random Forest Regressor Train Score (R²): 0.8583704862153498\n",
      "Random Forest Regressor Test Score (R²): 0.00961583476495087\n",
      "Random Forest Regressor Mean Squared Error 14.195854169588886\n",
      "K-Fold Random Forest Regressor Train Score (Mean R²): 0.8574024500793638\n",
      "K-Fold Random Forest Regressor Test Score (Mean R²): -0.19246932352660823\n"
     ]
    }
   ],
   "source": [
    "#2\n",
    "\n",
    "#Random Forest Regressor\n",
    "Ran_Forest_Model = RandomForestRegressor(random_state=1945) #No optimization at this point\n",
    "Ran_Forest_Model.fit(Xtrain, ytrain)\n",
    "ypredict = Ran_Forest_Model.predict(Xtest)\n",
    "RFR_mse = mean_squared_error(ytest, ypredict)\n",
    "print('Random Forest Regressor Train Score (R\\u00b2):', Ran_Forest_Model.score(Xtrain, ytrain))\n",
    "print('Random Forest Regressor Test Score (R\\u00b2):', Ran_Forest_Model.score(Xtest, ytest))\n",
    "print('Random Forest Regressor Mean Squared Error', RFR_mse)\n",
    "train_scores, test_scores = K_Fold(Ran_Forest_Model, X_1, y_1, 10, )\n",
    "print('K-Fold Random Forest Regressor Train Score (Mean R\\u00b2):', np.mean(train_scores))\n",
    "print('K-Fold Random Forest Regressor Test Score (Mean R\\u00b2):',np.mean(test_scores))"
   ]
  },
  {
   "cell_type": "code",
   "execution_count": 23,
   "metadata": {},
   "outputs": [
    {
     "data": {
      "text/plain": [
       "((750, 11), (188, 11), (750,), (188,))"
      ]
     },
     "execution_count": 23,
     "metadata": {},
     "output_type": "execute_result"
    }
   ],
   "source": [
    "#Train Test Split Greater than 5\n",
    "X_2 = np.array(df_greater_than_5.drop(columns=['Overall Sink Percentage']))\n",
    "y_2 = df_greater_than_5['Overall Sink Percentage'].values\n",
    "Xtrain, Xtest, ytrain, ytest = train_test_split(X_2, y_2, train_size=0.8, random_state=1945)\n",
    "(Xtrain.shape, Xtest.shape, ytrain.shape, ytest.shape)"
   ]
  },
  {
   "cell_type": "code",
   "execution_count": null,
   "metadata": {},
   "outputs": [
    {
     "name": "stdout",
     "output_type": "stream",
     "text": [
      "Gradient Boosting Regressor Train Score (Mean Accuracy): 0.7667219579010558\n",
      "Gradient Boosting Regressor Test Score (Mean Accuracy): 0.05201415377468699\n",
      "Gradient Boosting Regressor Mean Squared Error 19.485033553328893\n",
      "K-Fold Gradient Boosting Train Score (Mean R²): 0.7287748550675843\n",
      "K-Fold Gradient Boosting Test Score (Mean R²): -0.20461029416321042\n"
     ]
    }
   ],
   "source": [
    "#3\n",
    "\n",
    "#Gradient Boosting Regressor\n",
    "GB_model = GradientBoostingRegressor(random_state=1945)\n",
    "GB_model.fit(Xtrain, ytrain)\n",
    "ypredict = GB_model.predict(Xtest)\n",
    "GB_mse = mean_squared_error(ytest, ypredict)\n",
    "print('Gradient Boosting Regressor Train Score (Mean Accuracy):', GB_model.score(Xtrain, ytrain))\n",
    "print('Gradient Boosting Regressor Test Score (Mean Accuracy):', GB_model.score(Xtest, ytest))\n",
    "print('Gradient Boosting Regressor Mean Squared Error', GB_mse)\n",
    "train_scores, test_scores = K_Fold(GB_model, X_2, y_2, 10, )\n",
    "print('K-Fold Gradient Boosting Train Score (Mean R\\u00b2):', np.mean(train_scores))\n",
    "print('K-Fold Gradient Boosting Test Score (Mean R\\u00b2):',np.mean(test_scores))"
   ]
  },
  {
   "cell_type": "code",
   "execution_count": null,
   "metadata": {},
   "outputs": [
    {
     "name": "stdout",
     "output_type": "stream",
     "text": [
      "Random Forest Regressor Train Score (R²): 0.8520017273140668\n",
      "Random Forest Regressor Test Score (R²): 0.15141077335865316\n",
      "Random Forest Regressor Mean Squared Error 17.442021544876678\n",
      "K-Fold Random Forest Regressor Train Score (Mean R²): 0.8559517855229009\n",
      "K-Fold Random Forest Regressor Test Score (Mean R²): -0.1312484101136941\n"
     ]
    }
   ],
   "source": [
    "#4\n",
    "\n",
    "#Random Forest Regressor\n",
    "Ran_Forest_Model = RandomForestRegressor(random_state=1945) #No optimization at this point\n",
    "Ran_Forest_Model.fit(Xtrain, ytrain)\n",
    "ypredict = Ran_Forest_Model.predict(Xtest)\n",
    "RFR_mse = mean_squared_error(ytest, ypredict)\n",
    "print('Random Forest Regressor Train Score (R\\u00b2):', Ran_Forest_Model.score(Xtrain, ytrain))\n",
    "print('Random Forest Regressor Test Score (R\\u00b2):', Ran_Forest_Model.score(Xtest, ytest))\n",
    "print('Random Forest Regressor Mean Squared Error', RFR_mse)\n",
    "train_scores, test_scores = K_Fold(Ran_Forest_Model, X_2, y_2, 10, )\n",
    "print('K-Fold Random Forest Regressor Train Score (Mean R\\u00b2):', np.mean(train_scores))\n",
    "print('K-Fold Random Forest Regressor Test Score (Mean R\\u00b2):',np.mean(test_scores))"
   ]
  },
  {
   "cell_type": "markdown",
   "metadata": {},
   "source": [
    "**Testing Overall Sink Percentage vs Number of Ships Sunk**"
   ]
  },
  {
   "cell_type": "code",
   "execution_count": 30,
   "metadata": {},
   "outputs": [],
   "source": [
    "df_2 = pd.read_csv('Complete_Convoy_Data.csv')\n",
    "df_2 = df_2.drop(columns=['Unnamed: 0'])"
   ]
  },
  {
   "cell_type": "code",
   "execution_count": 32,
   "metadata": {},
   "outputs": [
    {
     "data": {
      "text/html": [
       "<div>\n",
       "<style scoped>\n",
       "    .dataframe tbody tr th:only-of-type {\n",
       "        vertical-align: middle;\n",
       "    }\n",
       "\n",
       "    .dataframe tbody tr th {\n",
       "        vertical-align: top;\n",
       "    }\n",
       "\n",
       "    .dataframe thead th {\n",
       "        text-align: right;\n",
       "    }\n",
       "</style>\n",
       "<table border=\"1\" class=\"dataframe\">\n",
       "  <thead>\n",
       "    <tr style=\"text-align: right;\">\n",
       "      <th></th>\n",
       "      <th>Number of Ships</th>\n",
       "      <th>Number of Escort Ships</th>\n",
       "      <th>Number of Stragglers</th>\n",
       "      <th>Number of Ships Sunk</th>\n",
       "      <th>Total Tons of Convoy</th>\n",
       "      <th>Avg Number of U-Boats in Atlantic</th>\n",
       "      <th>Escort Ratio</th>\n",
       "      <th>Time At Sea (Days)</th>\n",
       "      <th>Month</th>\n",
       "      <th>Year</th>\n",
       "      <th>Previous Month Avg Sink %</th>\n",
       "      <th>Approx. Sighting Range</th>\n",
       "    </tr>\n",
       "  </thead>\n",
       "  <tbody>\n",
       "    <tr>\n",
       "      <th>0</th>\n",
       "      <td>5.0</td>\n",
       "      <td>2.0</td>\n",
       "      <td>0.0</td>\n",
       "      <td>0.0</td>\n",
       "      <td>22877.0</td>\n",
       "      <td>6.0</td>\n",
       "      <td>0.400000</td>\n",
       "      <td>3.0</td>\n",
       "      <td>9.0</td>\n",
       "      <td>1939.0</td>\n",
       "      <td>0.0</td>\n",
       "      <td>12.190200</td>\n",
       "    </tr>\n",
       "    <tr>\n",
       "      <th>1</th>\n",
       "      <td>5.0</td>\n",
       "      <td>2.0</td>\n",
       "      <td>0.0</td>\n",
       "      <td>0.0</td>\n",
       "      <td>22967.0</td>\n",
       "      <td>6.0</td>\n",
       "      <td>0.400000</td>\n",
       "      <td>5.0</td>\n",
       "      <td>9.0</td>\n",
       "      <td>1939.0</td>\n",
       "      <td>0.0</td>\n",
       "      <td>12.190200</td>\n",
       "    </tr>\n",
       "    <tr>\n",
       "      <th>2</th>\n",
       "      <td>7.0</td>\n",
       "      <td>4.0</td>\n",
       "      <td>0.0</td>\n",
       "      <td>0.0</td>\n",
       "      <td>21293.0</td>\n",
       "      <td>6.0</td>\n",
       "      <td>0.571429</td>\n",
       "      <td>5.0</td>\n",
       "      <td>9.0</td>\n",
       "      <td>1939.0</td>\n",
       "      <td>0.0</td>\n",
       "      <td>14.434062</td>\n",
       "    </tr>\n",
       "  </tbody>\n",
       "</table>\n",
       "</div>"
      ],
      "text/plain": [
       "   Number of Ships  Number of Escort Ships  Number of Stragglers  \\\n",
       "0              5.0                     2.0                   0.0   \n",
       "1              5.0                     2.0                   0.0   \n",
       "2              7.0                     4.0                   0.0   \n",
       "\n",
       "   Number of Ships Sunk  Total Tons of Convoy  \\\n",
       "0                   0.0               22877.0   \n",
       "1                   0.0               22967.0   \n",
       "2                   0.0               21293.0   \n",
       "\n",
       "   Avg Number of U-Boats in Atlantic  Escort Ratio  Time At Sea (Days)  Month  \\\n",
       "0                                6.0      0.400000                 3.0    9.0   \n",
       "1                                6.0      0.400000                 5.0    9.0   \n",
       "2                                6.0      0.571429                 5.0    9.0   \n",
       "\n",
       "     Year  Previous Month Avg Sink %  Approx. Sighting Range  \n",
       "0  1939.0                        0.0               12.190200  \n",
       "1  1939.0                        0.0               12.190200  \n",
       "2  1939.0                        0.0               14.434062  "
      ]
     },
     "execution_count": 32,
     "metadata": {},
     "output_type": "execute_result"
    }
   ],
   "source": [
    "#Dropping the features that are not needed or give away information\n",
    "df_2 = df_2.drop(columns=['Convoy Number', 'Overall Sink Percentage', 'Depart_Date', 'Arrival/Dispersal Date', 'Number of Escorts Sunk', \\\n",
    "                         'Number of Stragglers Sunk', 'Total Tons of Ships Sunk', 'Escort Sink Percentage', 'Straggler Sink Percentage'])\n",
    "df_2.reset_index(drop=True).head(3) "
   ]
  },
  {
   "cell_type": "code",
   "execution_count": 37,
   "metadata": {},
   "outputs": [],
   "source": [
    "#Only instances where the convoy was together for more than 10 days\n",
    "df_greater_than_10_2= df_2[df_2['Time At Sea (Days)'] > 10]\n",
    "#Removes 184 convoys 289\n",
    "\n",
    "#Only instances where the convoy was together for more than 5 days\n",
    "df_greater_than_5_2= df_2[df_2['Time At Sea (Days)'] > 5]\n",
    "#Removes 184 convoys"
   ]
  },
  {
   "cell_type": "code",
   "execution_count": 38,
   "metadata": {},
   "outputs": [
    {
     "data": {
      "text/plain": [
       "((702, 11), (176, 11), (702,), (176,))"
      ]
     },
     "execution_count": 38,
     "metadata": {},
     "output_type": "execute_result"
    }
   ],
   "source": [
    "X_3 = np.array(df_greater_than_10_2.drop(columns=['Number of Ships Sunk']))\n",
    "y_3 = df_greater_than_10_2['Number of Ships Sunk'].values\n",
    "Xtrain, Xtest, ytrain, ytest = train_test_split(X_3, y_3, train_size=0.8, random_state=1945)\n",
    "(Xtrain.shape, Xtest.shape, ytrain.shape, ytest.shape)"
   ]
  },
  {
   "cell_type": "code",
   "execution_count": null,
   "metadata": {},
   "outputs": [
    {
     "name": "stdout",
     "output_type": "stream",
     "text": [
      "Gradient Boosting Regressor Train Score (Mean Accuracy): 0.7924348525211582\n",
      "Gradient Boosting Regressor Test Score (Mean Accuracy): -0.08432872786347101\n",
      "Gradient Boosting Regressor Mean Squared Error 3.7027011618594603\n",
      "K-Fold Gradient Boosting Train Score (Mean R²): 0.7558586254211882\n",
      "K-Fold Gradient Boosting Test Score (Mean R²): -0.24125934028307872\n"
     ]
    }
   ],
   "source": [
    "#5\n",
    "\n",
    "#Gradient Boosting Regressor\n",
    "GB_model = GradientBoostingRegressor(random_state=1945)\n",
    "GB_model.fit(Xtrain, ytrain)\n",
    "ypredict = GB_model.predict(Xtest)\n",
    "GB_mse = mean_squared_error(ytest, ypredict)\n",
    "print('Gradient Boosting Regressor Train Score (Mean Accuracy):', GB_model.score(Xtrain, ytrain))\n",
    "print('Gradient Boosting Regressor Test Score (Mean Accuracy):', GB_model.score(Xtest, ytest))\n",
    "print('Gradient Boosting Regressor Mean Squared Error', GB_mse)\n",
    "train_scores, test_scores = K_Fold(GB_model, X_3, y_3, 10, )\n",
    "print('K-Fold Gradient Boosting Train Score (Mean R\\u00b2):', np.mean(train_scores))\n",
    "print('K-Fold Gradient Boosting Test Score (Mean R\\u00b2):',np.mean(test_scores))"
   ]
  },
  {
   "cell_type": "code",
   "execution_count": null,
   "metadata": {},
   "outputs": [
    {
     "name": "stdout",
     "output_type": "stream",
     "text": [
      "Random Forest Regressor Train Score (R²): 0.857097286518973\n",
      "Random Forest Regressor Test Score (R²): -0.08816053698889137\n",
      "Random Forest Regressor Mean Squared Error 3.7157857954545452\n",
      "K-Fold Random Forest Regressor Train Score (Mean R²): 0.8557931261270346\n",
      "K-Fold Random Forest Regressor Test Score (Mean R²): -0.14126694232031323\n"
     ]
    }
   ],
   "source": [
    "#6\n",
    "\n",
    "#Random Forest Regressor\n",
    "Ran_Forest_Model = RandomForestRegressor(random_state=1945) #No optimization at this point\n",
    "Ran_Forest_Model.fit(Xtrain, ytrain)\n",
    "ypredict = Ran_Forest_Model.predict(Xtest)\n",
    "RFR_mse = mean_squared_error(ytest, ypredict)\n",
    "print('Random Forest Regressor Train Score (R\\u00b2):', Ran_Forest_Model.score(Xtrain, ytrain))\n",
    "print('Random Forest Regressor Test Score (R\\u00b2):', Ran_Forest_Model.score(Xtest, ytest))\n",
    "print('Random Forest Regressor Mean Squared Error', RFR_mse)\n",
    "train_scores, test_scores = K_Fold(Ran_Forest_Model, X_3, y_3, 10, )\n",
    "print('K-Fold Random Forest Regressor Train Score (Mean R\\u00b2):', np.mean(train_scores))\n",
    "print('K-Fold Random Forest Regressor Test Score (Mean R\\u00b2):',np.mean(test_scores))"
   ]
  },
  {
   "cell_type": "code",
   "execution_count": 41,
   "metadata": {},
   "outputs": [
    {
     "data": {
      "text/plain": [
       "((750, 11), (188, 11), (750,), (188,))"
      ]
     },
     "execution_count": 41,
     "metadata": {},
     "output_type": "execute_result"
    }
   ],
   "source": [
    "X_4 = np.array(df_greater_than_5_2.drop(columns=['Number of Ships Sunk']))\n",
    "y_4 = df_greater_than_5_2['Number of Ships Sunk'].values\n",
    "Xtrain, Xtest, ytrain, ytest = train_test_split(X_4, y_4, train_size=0.8, random_state=1945)\n",
    "(Xtrain.shape, Xtest.shape, ytrain.shape, ytest.shape)"
   ]
  },
  {
   "cell_type": "code",
   "execution_count": null,
   "metadata": {},
   "outputs": [
    {
     "name": "stdout",
     "output_type": "stream",
     "text": [
      "Gradient Boosting Regressor Train Score (Mean Accuracy): 0.7622364343330639\n",
      "Gradient Boosting Regressor Test Score (Mean Accuracy): 0.010142099860464104\n",
      "Gradient Boosting Regressor Mean Squared Error 7.408698774086474\n",
      "K-Fold Gradient Boosting Train Score (Mean R²): 0.7273958378147681\n",
      "K-Fold Gradient Boosting Test Score (Mean R²): -0.3011173625045743\n"
     ]
    }
   ],
   "source": [
    "#7\n",
    "\n",
    "#Gradient Boosting Regressor\n",
    "GB_model = GradientBoostingRegressor(random_state=1945)\n",
    "GB_model.fit(Xtrain, ytrain)\n",
    "ypredict = GB_model.predict(Xtest)\n",
    "GB_mse = mean_squared_error(ytest, ypredict)\n",
    "print('Gradient Boosting Regressor Train Score (Mean Accuracy):', GB_model.score(Xtrain, ytrain))\n",
    "print('Gradient Boosting Regressor Test Score (Mean Accuracy):', GB_model.score(Xtest, ytest))\n",
    "print('Gradient Boosting Regressor Mean Squared Error', GB_mse)\n",
    "train_scores, test_scores = K_Fold(GB_model, X_4, y_4, 10, )\n",
    "print('K-Fold Gradient Boosting Train Score (Mean R\\u00b2):', np.mean(train_scores))\n",
    "print('K-Fold Gradient Boosting Test Score (Mean R\\u00b2):',np.mean(test_scores))"
   ]
  },
  {
   "cell_type": "code",
   "execution_count": null,
   "metadata": {},
   "outputs": [
    {
     "name": "stdout",
     "output_type": "stream",
     "text": [
      "Random Forest Regressor Train Score (R²): 0.8437771627851679\n",
      "Random Forest Regressor Test Score (R²): 0.11908060755435956\n",
      "Random Forest Regressor Mean Squared Error 6.593336702127659\n",
      "K-Fold Random Forest Regressor Train Score (Mean R²): 0.8535978372528774\n",
      "K-Fold Random Forest Regressor Test Score (Mean R²): -0.14360055572159672\n"
     ]
    }
   ],
   "source": [
    "#8\n",
    "\n",
    "#Random Forest Regressor\n",
    "Ran_Forest_Model = RandomForestRegressor(random_state=1945) #No optimization at this point\n",
    "Ran_Forest_Model.fit(Xtrain, ytrain)\n",
    "ypredict = Ran_Forest_Model.predict(Xtest)\n",
    "RFR_mse = mean_squared_error(ytest, ypredict)\n",
    "print('Random Forest Regressor Train Score (R\\u00b2):', Ran_Forest_Model.score(Xtrain, ytrain))\n",
    "print('Random Forest Regressor Test Score (R\\u00b2):', Ran_Forest_Model.score(Xtest, ytest))\n",
    "print('Random Forest Regressor Mean Squared Error', RFR_mse)\n",
    "train_scores, test_scores = K_Fold(Ran_Forest_Model, X_4, y_4, 10, )\n",
    "print('K-Fold Random Forest Regressor Train Score (Mean R\\u00b2):', np.mean(train_scores))\n",
    "print('K-Fold Random Forest Regressor Test Score (Mean R\\u00b2):',np.mean(test_scores))"
   ]
  },
  {
   "cell_type": "markdown",
   "metadata": {},
   "source": [
    "# All Results:\n",
    "\n",
    "\n",
    "#1\n",
    "Gradient Boosting Regressor Train Score (Mean Accuracy): 0.8108159645821675\n",
    "Gradient Boosting Regressor Test Score (Mean Accuracy): 0.06908893514660186\n",
    "Gradient Boosting Regressor Mean Squared Error 13.343385511802069\n",
    "K-Fold Gradient Boosting Train Score (Mean R²): 0.7650187716574124\n",
    "K-Fold Gradient Boosting Test Score (Mean R²): -0.2242567375852599\n",
    "\n",
    "\n",
    "#2\n",
    "Random Forest Regressor Train Score (R²): 0.8583704862153498\n",
    "Random Forest Regressor Test Score (R²): 0.00961583476495087\n",
    "Random Forest Regressor Mean Squared Error 14.195854169588886\n",
    "K-Fold Random Forest Regressor Train Score (Mean R²): 0.8574024500793638\n",
    "K-Fold Random Forest Regressor Test Score (Mean R²): -0.19246932352660823\n",
    "\n",
    "\n",
    "#3\n",
    "Gradient Boosting Regressor Train Score (Mean Accuracy): 0.7667219579010558\n",
    "Gradient Boosting Regressor Test Score (Mean Accuracy): 0.05201415377468699\n",
    "Gradient Boosting Regressor Mean Squared Error 19.485033553328893\n",
    "K-Fold Gradient Boosting Train Score (Mean R²): 0.7287748550675843\n",
    "K-Fold Gradient Boosting Test Score (Mean R²): -0.20461029416321042\n",
    "\n",
    "\n",
    "#4\n",
    "Random Forest Regressor Train Score (R²): 0.8520017273140668\n",
    "Random Forest Regressor Test Score (R²): 0.15141077335865316\n",
    "Random Forest Regressor Mean Squared Error 17.442021544876678\n",
    "K-Fold Random Forest Regressor Train Score (Mean R²): 0.8559517855229009\n",
    "K-Fold Random Forest Regressor Test Score (Mean R²): -0.1312484101136941\n",
    "\n",
    "\n",
    "#5\n",
    "Gradient Boosting Regressor Train Score (Mean Accuracy): 0.7924348525211582\n",
    "Gradient Boosting Regressor Test Score (Mean Accuracy): -0.08432872786347101\n",
    "Gradient Boosting Regressor Mean Squared Error 3.7027011618594603\n",
    "K-Fold Gradient Boosting Train Score (Mean R²): 0.7558586254211882\n",
    "K-Fold Gradient Boosting Test Score (Mean R²): -0.24125934028307872\n",
    "\n",
    "#6\n",
    "Random Forest Regressor Train Score (R²): 0.857097286518973\n",
    "Random Forest Regressor Test Score (R²): -0.08816053698889137\n",
    "Random Forest Regressor Mean Squared Error 3.7157857954545452\n",
    "K-Fold Random Forest Regressor Train Score (Mean R²): 0.8557931261270346\n",
    "K-Fold Random Forest Regressor Test Score (Mean R²): -0.14126694232031323\n",
    "\n",
    "\n",
    "#7\n",
    "Gradient Boosting Regressor Train Score (Mean Accuracy): 0.7622364343330639\n",
    "Gradient Boosting Regressor Test Score (Mean Accuracy): 0.010142099860464104\n",
    "Gradient Boosting Regressor Mean Squared Error 7.408698774086474\n",
    "K-Fold Gradient Boosting Train Score (Mean R²): 0.7273958378147681\n",
    "K-Fold Gradient Boosting Test Score (Mean R²): -0.3011173625045743\n",
    "\n",
    "\n",
    "#8\n",
    "Random Forest Regressor Train Score (R²): 0.8437771627851679\n",
    "Random Forest Regressor Test Score (R²): 0.11908060755435956\n",
    "Random Forest Regressor Mean Squared Error 6.593336702127659\n",
    "K-Fold Random Forest Regressor Train Score (Mean R²): 0.8535978372528774\n",
    "K-Fold Random Forest Regressor Test Score (Mean R²): -0.14360055572159672"
   ]
  },
  {
   "cell_type": "markdown",
   "metadata": {},
   "source": [
    "Notebook is finished, results will be analyzed elsewhere. "
   ]
  },
  {
   "cell_type": "markdown",
   "metadata": {},
   "source": []
  }
 ],
 "metadata": {
  "kernelspec": {
   "display_name": "base",
   "language": "python",
   "name": "python3"
  },
  "language_info": {
   "codemirror_mode": {
    "name": "ipython",
    "version": 3
   },
   "file_extension": ".py",
   "mimetype": "text/x-python",
   "name": "python",
   "nbconvert_exporter": "python",
   "pygments_lexer": "ipython3",
   "version": "3.9.13"
  }
 },
 "nbformat": 4,
 "nbformat_minor": 2
}
