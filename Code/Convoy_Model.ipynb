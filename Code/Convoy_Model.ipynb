{
 "cells": [
  {
   "cell_type": "code",
   "execution_count": 2,
   "metadata": {},
   "outputs": [],
   "source": [
    "#Imports\n",
    "import pandas as pd\n",
    "import numpy as np\n",
    "import matplotlib.pyplot as plt\n",
    "from matplotlib.dates import MonthLocator\n",
    "import matplotlib.dates as mdates\n",
    "import seaborn as sns\n",
    "from sklearn.decomposition import PCA\n",
    "from sklearn.preprocessing import StandardScaler as SS\n",
    "from sklearn.linear_model import LinearRegression as LinearRegression, Ridge\n",
    "from sklearn.model_selection import train_test_split, KFold, GridSearchCV\n",
    "from sklearn.ensemble import RandomForestRegressor, GradientBoostingRegressor\n",
    "from sklearn.metrics import mean_squared_error, r2_score\n",
    "from sklearn.neighbors import KNeighborsRegressor\n",
    "\n"
   ]
  },
  {
   "cell_type": "markdown",
   "metadata": {},
   "source": [
    "This notebook is a preliminary attempt at fitting models to predict overall sink percentage. Subsuquent notebooks refine the models"
   ]
  },
  {
   "cell_type": "code",
   "execution_count": 3,
   "metadata": {},
   "outputs": [],
   "source": [
    "#DataFrames\n",
    "sc = pd.read_csv('Excel_Files/Complete_Data/SC_Data.csv')\n",
    "ob = pd.read_csv('Excel_Files/Complete_Data/OB_Data.csv')\n",
    "hx = pd.read_csv('Excel_Files/Complete_Data/HX_Data.csv')"
   ]
  },
  {
   "cell_type": "code",
   "execution_count": 4,
   "metadata": {},
   "outputs": [],
   "source": [
    "#Calculate Sink Rates\n",
    "def Divide(a,b):\n",
    "    if b == 0:\n",
    "        return np.nan\n",
    "    return a / b\n",
    "\n",
    "sc['Overall Sink Percentage'] = sc.apply(lambda row: Divide(row['Number of Ships Sunk'], row['Number of Ships'], ), axis=1)\n",
    "sc['Escort Sink Percentage'] = sc.apply(lambda row: Divide(row['Number of Escorts Sunk'], row['Number of Escort Ships']), axis=1)\n",
    "sc['Straggler Sink Percentage'] = sc.apply(lambda row: Divide(row['Number of Stragglers Sunk'], row['Number of Stragglers'],), axis=1)\n",
    "sc['Overall Sink Percentage'] = sc['Overall Sink Percentage'] * 100\n",
    "sc['Escort Sink Percentage'] = sc['Escort Sink Percentage'] * 100\n",
    "sc['Straggler Sink Percentage'] = sc['Straggler Sink Percentage'] * 100\n",
    "sc['Depart_Date'] = pd.to_datetime(sc['Depart_Date'], errors='coerce')\n",
    "sc = sc.fillna(0)\n",
    "\n",
    "ob['Overall Sink Percentage'] = ob.apply(lambda row: Divide(row['Number of Ships Sunk'], row['Number of Ships'], ), axis=1)\n",
    "ob['Escort Sink Percentage'] = ob.apply(lambda row: Divide(row['Number of Escorts Sunk'], row['Number of Escort Ships']), axis=1)\n",
    "ob['Straggler Sink Percentage'] = ob.apply(lambda row: Divide(row['Number of Stragglers Sunk'], row['Number of Stragglers'],), axis=1)\n",
    "ob['Overall Sink Percentage'] = ob['Overall Sink Percentage'] * 100\n",
    "ob['Escort Sink Percentage'] = ob['Escort Sink Percentage'] * 100\n",
    "ob['Straggler Sink Percentage'] = ob['Straggler Sink Percentage'] * 100\n",
    "ob['Depart_Date'] = pd.to_datetime(ob['Depart_Date'], errors='coerce')\n",
    "ob = ob.fillna(0)\n",
    "\n",
    "hx['Overall Sink Percentage'] = hx.apply(lambda row: Divide(row['Number of Ships Sunk'], row['Number of Ships'], ), axis=1)\n",
    "hx['Escort Sink Percentage'] = hx.apply(lambda row: Divide(row['Number of Escorts Sunk'], row['Number of Escort Ships']), axis=1)\n",
    "hx['Straggler Sink Percentage'] = hx.apply(lambda row: Divide(row['Number of Stragglers Sunk'], row['Number of Stragglers'],), axis=1)\n",
    "hx['Overall Sink Percentage'] = hx['Overall Sink Percentage'] * 100\n",
    "hx['Escort Sink Percentage'] = hx['Escort Sink Percentage'] * 100\n",
    "hx['Straggler Sink Percentage'] = hx['Straggler Sink Percentage'] * 100\n",
    "hx['Depart_Date'] = pd.to_datetime(hx['Depart_Date'], errors='coerce')\n",
    "hx = hx.fillna(0)"
   ]
  },
  {
   "cell_type": "code",
   "execution_count": 5,
   "metadata": {},
   "outputs": [
    {
     "data": {
      "text/html": [
       "<div>\n",
       "<style scoped>\n",
       "    .dataframe tbody tr th:only-of-type {\n",
       "        vertical-align: middle;\n",
       "    }\n",
       "\n",
       "    .dataframe tbody tr th {\n",
       "        vertical-align: top;\n",
       "    }\n",
       "\n",
       "    .dataframe thead th {\n",
       "        text-align: right;\n",
       "    }\n",
       "</style>\n",
       "<table border=\"1\" class=\"dataframe\">\n",
       "  <thead>\n",
       "    <tr style=\"text-align: right;\">\n",
       "      <th></th>\n",
       "      <th>Convoy Number</th>\n",
       "      <th>Number of Ships</th>\n",
       "      <th>Number of Escort Ships</th>\n",
       "      <th>Number of Stragglers</th>\n",
       "      <th>Number of Ships Sunk</th>\n",
       "      <th>Number of Escorts Sunk</th>\n",
       "      <th>Number of Stragglers Sunk</th>\n",
       "      <th>Total Tons of Convoy</th>\n",
       "      <th>Total Tons of Ships Sunk</th>\n",
       "      <th>Depart_Date</th>\n",
       "      <th>Arrival/Dispersal Date</th>\n",
       "      <th>Overall Sink Percentage</th>\n",
       "      <th>Escort Sink Percentage</th>\n",
       "      <th>Straggler Sink Percentage</th>\n",
       "    </tr>\n",
       "  </thead>\n",
       "  <tbody>\n",
       "    <tr>\n",
       "      <th>177</th>\n",
       "      <td>OB.1</td>\n",
       "      <td>5</td>\n",
       "      <td>2</td>\n",
       "      <td>0</td>\n",
       "      <td>0</td>\n",
       "      <td>0</td>\n",
       "      <td>0</td>\n",
       "      <td>22877</td>\n",
       "      <td>0</td>\n",
       "      <td>1939-09-07</td>\n",
       "      <td>1939-09-10</td>\n",
       "      <td>0.0</td>\n",
       "      <td>0.0</td>\n",
       "      <td>0.0</td>\n",
       "    </tr>\n",
       "    <tr>\n",
       "      <th>178</th>\n",
       "      <td>OB.2</td>\n",
       "      <td>5</td>\n",
       "      <td>2</td>\n",
       "      <td>0</td>\n",
       "      <td>0</td>\n",
       "      <td>0</td>\n",
       "      <td>0</td>\n",
       "      <td>22967</td>\n",
       "      <td>0</td>\n",
       "      <td>1939-09-09</td>\n",
       "      <td>1939-09-14</td>\n",
       "      <td>0.0</td>\n",
       "      <td>0.0</td>\n",
       "      <td>0.0</td>\n",
       "    </tr>\n",
       "    <tr>\n",
       "      <th>179</th>\n",
       "      <td>OB.3</td>\n",
       "      <td>7</td>\n",
       "      <td>4</td>\n",
       "      <td>0</td>\n",
       "      <td>0</td>\n",
       "      <td>0</td>\n",
       "      <td>0</td>\n",
       "      <td>21293</td>\n",
       "      <td>0</td>\n",
       "      <td>1939-09-11</td>\n",
       "      <td>1939-09-16</td>\n",
       "      <td>0.0</td>\n",
       "      <td>0.0</td>\n",
       "      <td>0.0</td>\n",
       "    </tr>\n",
       "    <tr>\n",
       "      <th>180</th>\n",
       "      <td>OB.4</td>\n",
       "      <td>12</td>\n",
       "      <td>2</td>\n",
       "      <td>0</td>\n",
       "      <td>0</td>\n",
       "      <td>0</td>\n",
       "      <td>0</td>\n",
       "      <td>77587</td>\n",
       "      <td>0</td>\n",
       "      <td>1939-09-13</td>\n",
       "      <td>1939-09-16</td>\n",
       "      <td>0.0</td>\n",
       "      <td>0.0</td>\n",
       "      <td>0.0</td>\n",
       "    </tr>\n",
       "    <tr>\n",
       "      <th>181</th>\n",
       "      <td>OB.5</td>\n",
       "      <td>20</td>\n",
       "      <td>3</td>\n",
       "      <td>0</td>\n",
       "      <td>0</td>\n",
       "      <td>0</td>\n",
       "      <td>0</td>\n",
       "      <td>98187</td>\n",
       "      <td>0</td>\n",
       "      <td>1939-09-16</td>\n",
       "      <td>1939-09-19</td>\n",
       "      <td>0.0</td>\n",
       "      <td>0.0</td>\n",
       "      <td>0.0</td>\n",
       "    </tr>\n",
       "    <tr>\n",
       "      <th>...</th>\n",
       "      <td>...</td>\n",
       "      <td>...</td>\n",
       "      <td>...</td>\n",
       "      <td>...</td>\n",
       "      <td>...</td>\n",
       "      <td>...</td>\n",
       "      <td>...</td>\n",
       "      <td>...</td>\n",
       "      <td>...</td>\n",
       "      <td>...</td>\n",
       "      <td>...</td>\n",
       "      <td>...</td>\n",
       "      <td>...</td>\n",
       "      <td>...</td>\n",
       "    </tr>\n",
       "    <tr>\n",
       "      <th>874</th>\n",
       "      <td>HX.349</td>\n",
       "      <td>90</td>\n",
       "      <td>32</td>\n",
       "      <td>0</td>\n",
       "      <td>0</td>\n",
       "      <td>0</td>\n",
       "      <td>0</td>\n",
       "      <td>445660</td>\n",
       "      <td>0</td>\n",
       "      <td>1945-04-08</td>\n",
       "      <td>1945-04-23</td>\n",
       "      <td>0.0</td>\n",
       "      <td>0.0</td>\n",
       "      <td>0.0</td>\n",
       "    </tr>\n",
       "    <tr>\n",
       "      <th>875</th>\n",
       "      <td>HX.350</td>\n",
       "      <td>117</td>\n",
       "      <td>33</td>\n",
       "      <td>0</td>\n",
       "      <td>0</td>\n",
       "      <td>0</td>\n",
       "      <td>0</td>\n",
       "      <td>654111</td>\n",
       "      <td>0</td>\n",
       "      <td>1945-04-13</td>\n",
       "      <td>1945-04-28</td>\n",
       "      <td>0.0</td>\n",
       "      <td>0.0</td>\n",
       "      <td>0.0</td>\n",
       "    </tr>\n",
       "    <tr>\n",
       "      <th>876</th>\n",
       "      <td>HX.351</td>\n",
       "      <td>92</td>\n",
       "      <td>38</td>\n",
       "      <td>0</td>\n",
       "      <td>0</td>\n",
       "      <td>0</td>\n",
       "      <td>0</td>\n",
       "      <td>414520</td>\n",
       "      <td>0</td>\n",
       "      <td>1945-04-18</td>\n",
       "      <td>1945-05-03</td>\n",
       "      <td>0.0</td>\n",
       "      <td>0.0</td>\n",
       "      <td>0.0</td>\n",
       "    </tr>\n",
       "    <tr>\n",
       "      <th>172</th>\n",
       "      <td>SC.173</td>\n",
       "      <td>29</td>\n",
       "      <td>10</td>\n",
       "      <td>0</td>\n",
       "      <td>0</td>\n",
       "      <td>0</td>\n",
       "      <td>0</td>\n",
       "      <td>103615</td>\n",
       "      <td>0</td>\n",
       "      <td>1945-04-18</td>\n",
       "      <td>1945-05-04</td>\n",
       "      <td>0.0</td>\n",
       "      <td>0.0</td>\n",
       "      <td>0.0</td>\n",
       "    </tr>\n",
       "    <tr>\n",
       "      <th>877</th>\n",
       "      <td>HX.352</td>\n",
       "      <td>122</td>\n",
       "      <td>47</td>\n",
       "      <td>1</td>\n",
       "      <td>0</td>\n",
       "      <td>0</td>\n",
       "      <td>0</td>\n",
       "      <td>590355</td>\n",
       "      <td>0</td>\n",
       "      <td>1945-04-23</td>\n",
       "      <td>1945-05-08</td>\n",
       "      <td>0.0</td>\n",
       "      <td>0.0</td>\n",
       "      <td>0.0</td>\n",
       "    </tr>\n",
       "  </tbody>\n",
       "</table>\n",
       "<p>874 rows × 14 columns</p>\n",
       "</div>"
      ],
      "text/plain": [
       "    Convoy Number  Number of Ships  Number of Escort Ships  \\\n",
       "177          OB.1                5                       2   \n",
       "178          OB.2                5                       2   \n",
       "179          OB.3                7                       4   \n",
       "180          OB.4               12                       2   \n",
       "181          OB.5               20                       3   \n",
       "..            ...              ...                     ...   \n",
       "874        HX.349               90                      32   \n",
       "875        HX.350              117                      33   \n",
       "876        HX.351               92                      38   \n",
       "172        SC.173               29                      10   \n",
       "877        HX.352              122                      47   \n",
       "\n",
       "     Number of Stragglers  Number of Ships Sunk  Number of Escorts Sunk  \\\n",
       "177                     0                     0                       0   \n",
       "178                     0                     0                       0   \n",
       "179                     0                     0                       0   \n",
       "180                     0                     0                       0   \n",
       "181                     0                     0                       0   \n",
       "..                    ...                   ...                     ...   \n",
       "874                     0                     0                       0   \n",
       "875                     0                     0                       0   \n",
       "876                     0                     0                       0   \n",
       "172                     0                     0                       0   \n",
       "877                     1                     0                       0   \n",
       "\n",
       "     Number of Stragglers Sunk  Total Tons of Convoy  \\\n",
       "177                          0                 22877   \n",
       "178                          0                 22967   \n",
       "179                          0                 21293   \n",
       "180                          0                 77587   \n",
       "181                          0                 98187   \n",
       "..                         ...                   ...   \n",
       "874                          0                445660   \n",
       "875                          0                654111   \n",
       "876                          0                414520   \n",
       "172                          0                103615   \n",
       "877                          0                590355   \n",
       "\n",
       "     Total Tons of Ships Sunk Depart_Date Arrival/Dispersal Date  \\\n",
       "177                         0  1939-09-07             1939-09-10   \n",
       "178                         0  1939-09-09             1939-09-14   \n",
       "179                         0  1939-09-11             1939-09-16   \n",
       "180                         0  1939-09-13             1939-09-16   \n",
       "181                         0  1939-09-16             1939-09-19   \n",
       "..                        ...         ...                    ...   \n",
       "874                         0  1945-04-08             1945-04-23   \n",
       "875                         0  1945-04-13             1945-04-28   \n",
       "876                         0  1945-04-18             1945-05-03   \n",
       "172                         0  1945-04-18             1945-05-04   \n",
       "877                         0  1945-04-23             1945-05-08   \n",
       "\n",
       "     Overall Sink Percentage  Escort Sink Percentage  \\\n",
       "177                      0.0                     0.0   \n",
       "178                      0.0                     0.0   \n",
       "179                      0.0                     0.0   \n",
       "180                      0.0                     0.0   \n",
       "181                      0.0                     0.0   \n",
       "..                       ...                     ...   \n",
       "874                      0.0                     0.0   \n",
       "875                      0.0                     0.0   \n",
       "876                      0.0                     0.0   \n",
       "172                      0.0                     0.0   \n",
       "877                      0.0                     0.0   \n",
       "\n",
       "     Straggler Sink Percentage  \n",
       "177                        0.0  \n",
       "178                        0.0  \n",
       "179                        0.0  \n",
       "180                        0.0  \n",
       "181                        0.0  \n",
       "..                         ...  \n",
       "874                        0.0  \n",
       "875                        0.0  \n",
       "876                        0.0  \n",
       "172                        0.0  \n",
       "877                        0.0  \n",
       "\n",
       "[874 rows x 14 columns]"
      ]
     },
     "execution_count": 5,
     "metadata": {},
     "output_type": "execute_result"
    }
   ],
   "source": [
    "#Combine DataFrames\n",
    "sc = sc.rename(columns={'SC Convoy Number': 'Convoy Number', 'Arrive_Date': 'Arrival/Dispersal Date'})\n",
    "ob = ob.rename(columns={'OB Convoy Number': 'Convoy Number', 'Dispersed_Date': 'Arrival/Dispersal Date'})\n",
    "hx = hx.rename(columns={'HX Convoy Number': 'Convoy Number', 'Arrive_Date': 'Arrival/Dispersal Date'})\n",
    "frames = [sc, ob, hx]\n",
    "df = pd.concat(frames, ignore_index=True)\n",
    "df = df.sort_values(by='Depart_Date')\n",
    "df.head(-10)\n",
    "#df.to_csv('SC-OB-HX-Data.csv')\n"
   ]
  },
  {
   "cell_type": "code",
   "execution_count": 6,
   "metadata": {},
   "outputs": [],
   "source": [
    "df = df.drop(columns=['Convoy Number', 'Number of Ships Sunk', 'Number of Escorts Sunk', 'Number of Stragglers Sunk',\\\n",
    "'Total Tons of Ships Sunk', 'Depart_Date', 'Arrival/Dispersal Date', 'Escort Sink Percentage', 'Straggler Sink Percentage'])"
   ]
  },
  {
   "cell_type": "code",
   "execution_count": 7,
   "metadata": {},
   "outputs": [
    {
     "data": {
      "text/html": [
       "<div>\n",
       "<style scoped>\n",
       "    .dataframe tbody tr th:only-of-type {\n",
       "        vertical-align: middle;\n",
       "    }\n",
       "\n",
       "    .dataframe tbody tr th {\n",
       "        vertical-align: top;\n",
       "    }\n",
       "\n",
       "    .dataframe thead th {\n",
       "        text-align: right;\n",
       "    }\n",
       "</style>\n",
       "<table border=\"1\" class=\"dataframe\">\n",
       "  <thead>\n",
       "    <tr style=\"text-align: right;\">\n",
       "      <th></th>\n",
       "      <th>Number of Ships</th>\n",
       "      <th>Number of Escort Ships</th>\n",
       "      <th>Number of Stragglers</th>\n",
       "      <th>Total Tons of Convoy</th>\n",
       "      <th>Overall Sink Percentage</th>\n",
       "    </tr>\n",
       "  </thead>\n",
       "  <tbody>\n",
       "    <tr>\n",
       "      <th>count</th>\n",
       "      <td>884.000000</td>\n",
       "      <td>884.000000</td>\n",
       "      <td>884.000000</td>\n",
       "      <td>8.840000e+02</td>\n",
       "      <td>884.000000</td>\n",
       "    </tr>\n",
       "    <tr>\n",
       "      <th>mean</th>\n",
       "      <td>51.090498</td>\n",
       "      <td>11.916290</td>\n",
       "      <td>0.449095</td>\n",
       "      <td>2.361160e+05</td>\n",
       "      <td>1.266582</td>\n",
       "    </tr>\n",
       "    <tr>\n",
       "      <th>std</th>\n",
       "      <td>26.938392</td>\n",
       "      <td>8.813649</td>\n",
       "      <td>1.501494</td>\n",
       "      <td>1.473992e+05</td>\n",
       "      <td>3.624235</td>\n",
       "    </tr>\n",
       "    <tr>\n",
       "      <th>min</th>\n",
       "      <td>2.000000</td>\n",
       "      <td>0.000000</td>\n",
       "      <td>0.000000</td>\n",
       "      <td>0.000000e+00</td>\n",
       "      <td>0.000000</td>\n",
       "    </tr>\n",
       "    <tr>\n",
       "      <th>25%</th>\n",
       "      <td>32.000000</td>\n",
       "      <td>4.000000</td>\n",
       "      <td>0.000000</td>\n",
       "      <td>1.335320e+05</td>\n",
       "      <td>0.000000</td>\n",
       "    </tr>\n",
       "    <tr>\n",
       "      <th>50%</th>\n",
       "      <td>48.000000</td>\n",
       "      <td>11.000000</td>\n",
       "      <td>0.000000</td>\n",
       "      <td>2.004740e+05</td>\n",
       "      <td>0.000000</td>\n",
       "    </tr>\n",
       "    <tr>\n",
       "      <th>75%</th>\n",
       "      <td>67.000000</td>\n",
       "      <td>18.000000</td>\n",
       "      <td>0.000000</td>\n",
       "      <td>3.000672e+05</td>\n",
       "      <td>0.000000</td>\n",
       "    </tr>\n",
       "    <tr>\n",
       "      <th>max</th>\n",
       "      <td>191.000000</td>\n",
       "      <td>47.000000</td>\n",
       "      <td>22.000000</td>\n",
       "      <td>1.054593e+06</td>\n",
       "      <td>46.511628</td>\n",
       "    </tr>\n",
       "  </tbody>\n",
       "</table>\n",
       "</div>"
      ],
      "text/plain": [
       "       Number of Ships  Number of Escort Ships  Number of Stragglers  \\\n",
       "count       884.000000              884.000000            884.000000   \n",
       "mean         51.090498               11.916290              0.449095   \n",
       "std          26.938392                8.813649              1.501494   \n",
       "min           2.000000                0.000000              0.000000   \n",
       "25%          32.000000                4.000000              0.000000   \n",
       "50%          48.000000               11.000000              0.000000   \n",
       "75%          67.000000               18.000000              0.000000   \n",
       "max         191.000000               47.000000             22.000000   \n",
       "\n",
       "       Total Tons of Convoy  Overall Sink Percentage  \n",
       "count          8.840000e+02               884.000000  \n",
       "mean           2.361160e+05                 1.266582  \n",
       "std            1.473992e+05                 3.624235  \n",
       "min            0.000000e+00                 0.000000  \n",
       "25%            1.335320e+05                 0.000000  \n",
       "50%            2.004740e+05                 0.000000  \n",
       "75%            3.000672e+05                 0.000000  \n",
       "max            1.054593e+06                46.511628  "
      ]
     },
     "execution_count": 7,
     "metadata": {},
     "output_type": "execute_result"
    }
   ],
   "source": [
    "df.describe()"
   ]
  },
  {
   "cell_type": "code",
   "execution_count": 8,
   "metadata": {},
   "outputs": [],
   "source": [
    "#Scale Data\n",
    "SS = SS()\n",
    "X_scaled = SS.fit_transform(df.drop(columns ='Overall Sink Percentage'))"
   ]
  },
  {
   "cell_type": "code",
   "execution_count": 9,
   "metadata": {},
   "outputs": [],
   "source": [
    "#Preform PCA \n",
    "pca = PCA()\n",
    "PCA_X= pca.fit_transform(X_scaled)\n",
    "PCA_X_df = pd.DataFrame(PCA_X[:,:2], columns = ['PC1','PC2'])\n",
    "PCA_X_df['Overall Sink Percentage'] = df['Overall Sink Percentage']"
   ]
  },
  {
   "cell_type": "code",
   "execution_count": 10,
   "metadata": {},
   "outputs": [
    {
     "name": "stdout",
     "output_type": "stream",
     "text": [
      "[0.66433958 0.25051169 0.0753961  0.00975263]\n"
     ]
    }
   ],
   "source": [
    "print(pca.explained_variance_ratio_)"
   ]
  },
  {
   "cell_type": "code",
   "execution_count": 11,
   "metadata": {},
   "outputs": [
    {
     "data": {
      "image/png": "[encoded data removed]",
      "text/plain": [
       "<Figure size 1400x600 with 1 Axes>"
      ]
     },
     "metadata": {},
     "output_type": "display_data"
    }
   ],
   "source": [
    "#Plot PCA\n",
    "plt.figure(figsize=(14, 6))\n",
    "sns.scatterplot(data=PCA_X_df, x='PC1', y='PC2', hue='Overall Sink Percentage', palette='crest')\n",
    "plt.xlabel('PC1')\n",
    "plt.ylabel('PC2')\n",
    "plt.show()"
   ]
  },
  {
   "cell_type": "code",
   "execution_count": 12,
   "metadata": {},
   "outputs": [
    {
     "data": {
      "image/png": "[encoded data removed]",
      "text/plain": [
       "<Figure size 640x480 with 1 Axes>"
      ]
     },
     "metadata": {},
     "output_type": "display_data"
    },
    {
     "name": "stdout",
     "output_type": "stream",
     "text": [
      "0    0.603696\n",
      "1    0.551012\n",
      "2    0.004266\n",
      "3    0.576124\n",
      "dtype: float64\n"
     ]
    }
   ],
   "source": [
    "pca_component_1 = pd.Series(pca.components_[0])\n",
    "pca_component_1.plot.bar()\n",
    "labels = df.drop(columns='Overall Sink Percentage').columns\n",
    "plt.xticks(range(len(labels)), labels, fontsize=7, rotation=45)\n",
    "plt.ylabel('Weights in PC1')\n",
    "plt.show()\n",
    "print(pca_component_1)"
   ]
  },
  {
   "cell_type": "code",
   "execution_count": 13,
   "metadata": {},
   "outputs": [
    {
     "data": {
      "image/png": "[encoded data removed]",
      "text/plain": [
       "<Figure size 640x480 with 1 Axes>"
      ]
     },
     "metadata": {},
     "output_type": "display_data"
    },
    {
     "name": "stdout",
     "output_type": "stream",
     "text": [
      "0    0.007212\n",
      "1   -0.045802\n",
      "2    0.998508\n",
      "3    0.028855\n",
      "dtype: float64\n"
     ]
    }
   ],
   "source": [
    "pca_component_2 = pd.Series(pca.components_[1])\n",
    "pca_component_2.plot.bar()\n",
    "labels = df.drop(columns='Overall Sink Percentage').columns\n",
    "plt.xticks(range(len(labels)), labels, fontsize=7, rotation=45)\n",
    "plt.ylabel('Weights in PC1')\n",
    "plt.show()\n",
    "print(pca_component_2)"
   ]
  },
  {
   "cell_type": "markdown",
   "metadata": {},
   "source": [
    "Prediction Models"
   ]
  },
  {
   "cell_type": "code",
   "execution_count": 14,
   "metadata": {},
   "outputs": [
    {
     "name": "stdout",
     "output_type": "stream",
     "text": [
      "Linear Regression Train Score (R²): 0.060307398658077105\n",
      "Linear Regression Coefficients: [ 2.37996622 -0.61183675  0.63591562 -2.07718457]\n",
      "Linear Regression Intercepts: 1.267031842179273\n",
      "Linear Regression Test Score (R²): 0.1667004179679712\n"
     ]
    }
   ],
   "source": [
    "#Linear Regression Model\n",
    "y = df['Overall Sink Percentage'].values\n",
    "X = np.array(df.drop(columns='Overall Sink Percentage'))\n",
    "feature_names = df.drop(columns='Overall Sink Percentage').columns\n",
    "Xtrain, Xtest, ytrain, ytest = train_test_split(X, y, train_size = 0.8, random_state=1945)\n",
    "X_train_scaled = SS.fit_transform(Xtrain)\n",
    "LR_model = LinearRegression()\n",
    "LR_model.fit(X_train_scaled, ytrain)\n",
    "y_predict = LR_model.predict(SS.transform(Xtest))\n",
    "print('Linear Regression Train Score (R\\u00b2):', LR_model.score(X_train_scaled, ytrain))\n",
    "print('Linear Regression Coefficients:', LR_model.coef_)\n",
    "print('Linear Regression Intercepts:', LR_model.intercept_)\n",
    "print('Linear Regression Test Score (R\\u00b2):', LR_model.score(SS.transform(Xtest), ytest))"
   ]
  },
  {
   "cell_type": "markdown",
   "metadata": {},
   "source": [
    "The low train score and high negative test score indicate this model fits the data very poorly. "
   ]
  },
  {
   "cell_type": "code",
   "execution_count": 15,
   "metadata": {},
   "outputs": [
    {
     "data": {
      "image/png": "[encoded data removed]",
      "text/plain": [
       "<Figure size 600x400 with 1 Axes>"
      ]
     },
     "metadata": {},
     "output_type": "display_data"
    }
   ],
   "source": [
    "plt.figure(figsize=(6,4))\n",
    "plt.scatter(ytest, y_predict, color='#359af2')\n",
    "plt.xlabel('True Values')\n",
    "plt.ylabel('Predictions')\n",
    "plt.xticks(np.arange(0, 22, 2))\n",
    "plt.yticks(np.arange(0, 16, 2))\n",
    "plt.title('True vs Predicted Values for Overall Sink Percentage')\n",
    "for spine in plt.gca().spines.values():\n",
    "    spine.set_visible(False)\n",
    "plt.grid()\n",
    "plt.show()"
   ]
  },
  {
   "cell_type": "code",
   "execution_count": 16,
   "metadata": {},
   "outputs": [
    {
     "data": {
      "image/png": "[encoded data removed]",
      "text/plain": [
       "<Figure size 640x480 with 1 Axes>"
      ]
     },
     "metadata": {},
     "output_type": "display_data"
    }
   ],
   "source": [
    "coef_df = pd.DataFrame({'Feature': feature_names, 'Coefficient': LR_model.coef_})\n",
    "coef_df = coef_df.sort_values('Coefficient', ascending=False)\n",
    "plt.bar(coef_df['Feature'], coef_df['Coefficient'], color='#359af2')\n",
    "plt.xlabel('Features')\n",
    "plt.ylabel('Coefficient Value')\n",
    "plt.yticks(np.arange(-3, 3.5, 0.5))\n",
    "plt.title('Feature Importances')\n",
    "plt.xticks(fontsize= 8, rotation=45)\n",
    "for spine in plt.gca().spines.values():\n",
    "    spine.set_visible(False)\n",
    "plt.show()"
   ]
  },
  {
   "cell_type": "markdown",
   "metadata": {},
   "source": [
    "The model is unable to fit the data well. Examining cases where at least one ship was sunk might give a better fitting model. "
   ]
  },
  {
   "cell_type": "code",
   "execution_count": 61,
   "metadata": {},
   "outputs": [
    {
     "data": {
      "text/html": [
       "<div>\n",
       "<style scoped>\n",
       "    .dataframe tbody tr th:only-of-type {\n",
       "        vertical-align: middle;\n",
       "    }\n",
       "\n",
       "    .dataframe tbody tr th {\n",
       "        vertical-align: top;\n",
       "    }\n",
       "\n",
       "    .dataframe thead th {\n",
       "        text-align: right;\n",
       "    }\n",
       "</style>\n",
       "<table border=\"1\" class=\"dataframe\">\n",
       "  <thead>\n",
       "    <tr style=\"text-align: right;\">\n",
       "      <th></th>\n",
       "      <th>Number of Ships</th>\n",
       "      <th>Number of Escort Ships</th>\n",
       "      <th>Number of Stragglers</th>\n",
       "      <th>Total Tons of Convoy</th>\n",
       "      <th>Overall Sink Percentage</th>\n",
       "    </tr>\n",
       "  </thead>\n",
       "  <tbody>\n",
       "    <tr>\n",
       "      <th>193</th>\n",
       "      <td>18</td>\n",
       "      <td>2</td>\n",
       "      <td>1</td>\n",
       "      <td>83452</td>\n",
       "      <td>5.555556</td>\n",
       "    </tr>\n",
       "    <tr>\n",
       "      <th>194</th>\n",
       "      <td>12</td>\n",
       "      <td>2</td>\n",
       "      <td>0</td>\n",
       "      <td>66074</td>\n",
       "      <td>8.333333</td>\n",
       "    </tr>\n",
       "    <tr>\n",
       "      <th>525</th>\n",
       "      <td>23</td>\n",
       "      <td>7</td>\n",
       "      <td>0</td>\n",
       "      <td>90517</td>\n",
       "      <td>8.695652</td>\n",
       "    </tr>\n",
       "    <tr>\n",
       "      <th>201</th>\n",
       "      <td>21</td>\n",
       "      <td>2</td>\n",
       "      <td>0</td>\n",
       "      <td>129835</td>\n",
       "      <td>4.761905</td>\n",
       "    </tr>\n",
       "    <tr>\n",
       "      <th>222</th>\n",
       "      <td>9</td>\n",
       "      <td>2</td>\n",
       "      <td>0</td>\n",
       "      <td>49474</td>\n",
       "      <td>11.111111</td>\n",
       "    </tr>\n",
       "  </tbody>\n",
       "</table>\n",
       "</div>"
      ],
      "text/plain": [
       "     Number of Ships  Number of Escort Ships  Number of Stragglers  \\\n",
       "193               18                       2                     1   \n",
       "194               12                       2                     0   \n",
       "525               23                       7                     0   \n",
       "201               21                       2                     0   \n",
       "222                9                       2                     0   \n",
       "\n",
       "     Total Tons of Convoy  Overall Sink Percentage  \n",
       "193                 83452                 5.555556  \n",
       "194                 66074                 8.333333  \n",
       "525                 90517                 8.695652  \n",
       "201                129835                 4.761905  \n",
       "222                 49474                11.111111  "
      ]
     },
     "execution_count": 61,
     "metadata": {},
     "output_type": "execute_result"
    }
   ],
   "source": [
    "#Examining Cases Where at Least One Ship was Sunk\n",
    "df_2 = df[df['Overall Sink Percentage'] != 0]\n",
    "df_2.head()\n",
    "#df_2.to_csv('Sink_Cases_Only.csv')"
   ]
  },
  {
   "cell_type": "code",
   "execution_count": 18,
   "metadata": {},
   "outputs": [],
   "source": [
    "#Drop irrelevant features (Already dropped in df)\n",
    "#df_2 = df_2.drop(columns=['Convoy Number', 'Number of Ships Sunk', 'Number of Escorts Sunk', 'Number of Stragglers Sunk',\\\n",
    "        #'Total Tons of Ships Sunk', 'Depart_Date', 'Arrival/Dispersal Date', 'Escort Sink Percentage', 'Straggler Sink Percentage'])"
   ]
  },
  {
   "cell_type": "code",
   "execution_count": 19,
   "metadata": {},
   "outputs": [
    {
     "data": {
      "text/html": [
       "<div>\n",
       "<style scoped>\n",
       "    .dataframe tbody tr th:only-of-type {\n",
       "        vertical-align: middle;\n",
       "    }\n",
       "\n",
       "    .dataframe tbody tr th {\n",
       "        vertical-align: top;\n",
       "    }\n",
       "\n",
       "    .dataframe thead th {\n",
       "        text-align: right;\n",
       "    }\n",
       "</style>\n",
       "<table border=\"1\" class=\"dataframe\">\n",
       "  <thead>\n",
       "    <tr style=\"text-align: right;\">\n",
       "      <th></th>\n",
       "      <th>Number of Ships</th>\n",
       "      <th>Number of Escort Ships</th>\n",
       "      <th>Number of Stragglers</th>\n",
       "      <th>Total Tons of Convoy</th>\n",
       "      <th>Overall Sink Percentage</th>\n",
       "    </tr>\n",
       "  </thead>\n",
       "  <tbody>\n",
       "    <tr>\n",
       "      <th>count</th>\n",
       "      <td>187.000000</td>\n",
       "      <td>187.000000</td>\n",
       "      <td>187.000000</td>\n",
       "      <td>187.000000</td>\n",
       "      <td>187.000000</td>\n",
       "    </tr>\n",
       "    <tr>\n",
       "      <th>mean</th>\n",
       "      <td>52.770053</td>\n",
       "      <td>11.978610</td>\n",
       "      <td>1.021390</td>\n",
       "      <td>225619.684492</td>\n",
       "      <td>5.987479</td>\n",
       "    </tr>\n",
       "    <tr>\n",
       "      <th>std</th>\n",
       "      <td>19.159645</td>\n",
       "      <td>6.983819</td>\n",
       "      <td>1.863507</td>\n",
       "      <td>102887.574786</td>\n",
       "      <td>5.825640</td>\n",
       "    </tr>\n",
       "    <tr>\n",
       "      <th>min</th>\n",
       "      <td>9.000000</td>\n",
       "      <td>1.000000</td>\n",
       "      <td>0.000000</td>\n",
       "      <td>49474.000000</td>\n",
       "      <td>0.990099</td>\n",
       "    </tr>\n",
       "    <tr>\n",
       "      <th>25%</th>\n",
       "      <td>40.500000</td>\n",
       "      <td>7.000000</td>\n",
       "      <td>0.000000</td>\n",
       "      <td>150775.500000</td>\n",
       "      <td>2.127660</td>\n",
       "    </tr>\n",
       "    <tr>\n",
       "      <th>50%</th>\n",
       "      <td>49.000000</td>\n",
       "      <td>11.000000</td>\n",
       "      <td>0.000000</td>\n",
       "      <td>208323.000000</td>\n",
       "      <td>3.846154</td>\n",
       "    </tr>\n",
       "    <tr>\n",
       "      <th>75%</th>\n",
       "      <td>63.500000</td>\n",
       "      <td>17.000000</td>\n",
       "      <td>1.000000</td>\n",
       "      <td>266905.500000</td>\n",
       "      <td>8.077843</td>\n",
       "    </tr>\n",
       "    <tr>\n",
       "      <th>max</th>\n",
       "      <td>124.000000</td>\n",
       "      <td>34.000000</td>\n",
       "      <td>16.000000</td>\n",
       "      <td>712910.000000</td>\n",
       "      <td>46.511628</td>\n",
       "    </tr>\n",
       "  </tbody>\n",
       "</table>\n",
       "</div>"
      ],
      "text/plain": [
       "       Number of Ships  Number of Escort Ships  Number of Stragglers  \\\n",
       "count       187.000000              187.000000            187.000000   \n",
       "mean         52.770053               11.978610              1.021390   \n",
       "std          19.159645                6.983819              1.863507   \n",
       "min           9.000000                1.000000              0.000000   \n",
       "25%          40.500000                7.000000              0.000000   \n",
       "50%          49.000000               11.000000              0.000000   \n",
       "75%          63.500000               17.000000              1.000000   \n",
       "max         124.000000               34.000000             16.000000   \n",
       "\n",
       "       Total Tons of Convoy  Overall Sink Percentage  \n",
       "count            187.000000               187.000000  \n",
       "mean          225619.684492                 5.987479  \n",
       "std           102887.574786                 5.825640  \n",
       "min            49474.000000                 0.990099  \n",
       "25%           150775.500000                 2.127660  \n",
       "50%           208323.000000                 3.846154  \n",
       "75%           266905.500000                 8.077843  \n",
       "max           712910.000000                46.511628  "
      ]
     },
     "execution_count": 19,
     "metadata": {},
     "output_type": "execute_result"
    }
   ],
   "source": [
    "df_2.describe()\n"
   ]
  },
  {
   "cell_type": "code",
   "execution_count": 20,
   "metadata": {},
   "outputs": [
    {
     "name": "stdout",
     "output_type": "stream",
     "text": [
      "Linear Regression Train Score (R²): 0.06489217497133892\n",
      "Linear Regression Coefficients: [ 1.98938121 -0.24421851  0.57806342 -2.87197775]\n",
      "Linear Regression Intercepts: 6.4263562302066015\n",
      "Linear Regression Test Score (R²): -0.340627967684731\n"
     ]
    }
   ],
   "source": [
    "#Linear Regression Model (Only Cases Where at Least One Ship was Sunk)\n",
    "y = df_2['Overall Sink Percentage'].values\n",
    "X = np.array(df_2.drop(columns='Overall Sink Percentage'))\n",
    "feature_names = df_2.drop(columns='Overall Sink Percentage').columns\n",
    "Xtrain, Xtest, ytrain, ytest = train_test_split(X, y, train_size = 0.8, random_state=1945)\n",
    "X_train_scaled = SS.fit_transform(Xtrain)\n",
    "LR_model = LinearRegression()\n",
    "LR_model.fit(X_train_scaled, ytrain)\n",
    "y_predict = LR_model.predict(SS.transform(Xtest))\n",
    "print('Linear Regression Train Score (R\\u00b2):', LR_model.score(X_train_scaled, ytrain))\n",
    "print('Linear Regression Coefficients:', LR_model.coef_)\n",
    "print('Linear Regression Intercepts:', LR_model.intercept_)\n",
    "print('Linear Regression Test Score (R\\u00b2):', LR_model.score(SS.transform(Xtest), ytest))"
   ]
  },
  {
   "cell_type": "code",
   "execution_count": 21,
   "metadata": {},
   "outputs": [
    {
     "name": "stdout",
     "output_type": "stream",
     "text": [
      "Linear Regression Train Score (R²): 0.05979735166048261\n",
      "Linear Regression Coefficients: [ 1.07004777 -0.1089093   0.61191663 -2.22775133]\n",
      "Linear Regression Intercepts: 6.164283021691073\n",
      "Linear Regression Test Score (R²): 0.031628626753056444\n"
     ]
    }
   ],
   "source": [
    "#Linear Regression Model (Only Cases Where at Least One Ship was Sunk) (Different Random State)\n",
    "y = df_2['Overall Sink Percentage'].values\n",
    "X = np.array(df_2.drop(columns='Overall Sink Percentage'))\n",
    "feature_names = df_2.drop(columns='Overall Sink Percentage').columns\n",
    "Xtrain, Xtest, ytrain, ytest = train_test_split(X, y, train_size = 0.8, random_state=1944)\n",
    "X_train_scaled = SS.fit_transform(Xtrain)\n",
    "LR_model = LinearRegression()\n",
    "LR_model.fit(X_train_scaled, ytrain)\n",
    "y_predict = LR_model.predict(SS.transform(Xtest))\n",
    "print('Linear Regression Train Score (R\\u00b2):', LR_model.score(X_train_scaled, ytrain))\n",
    "print('Linear Regression Coefficients:', LR_model.coef_)\n",
    "print('Linear Regression Intercepts:', LR_model.intercept_)\n",
    "print('Linear Regression Test Score (R\\u00b2):', LR_model.score(SS.transform(Xtest), ytest))"
   ]
  },
  {
   "cell_type": "code",
   "execution_count": 22,
   "metadata": {},
   "outputs": [
    {
     "data": {
      "image/png": "[encoded data removed]",
      "text/plain": [
       "<Figure size 600x400 with 1 Axes>"
      ]
     },
     "metadata": {},
     "output_type": "display_data"
    }
   ],
   "source": [
    "plt.figure(figsize=(6,4))\n",
    "plt.scatter(ytest, y_predict, color='#359af2')\n",
    "plt.xlabel('True Values')\n",
    "plt.ylabel('Predictions')\n",
    "plt.xticks(np.arange(0, 22, 2))\n",
    "plt.yticks(np.arange(0, 16, 2))\n",
    "plt.title('True vs Predicted Values for Overall Sink Percentage')\n",
    "for spine in plt.gca().spines.values():\n",
    "    spine.set_visible(False)\n",
    "plt.grid()\n",
    "plt.show()"
   ]
  },
  {
   "cell_type": "markdown",
   "metadata": {},
   "source": [
    "The random state of the train test split for the linear regression model results in train and test scores that are wildley inconsistent across the different random states. K-Fold Cross-Validation will be implemeneted to fix this. "
   ]
  },
  {
   "cell_type": "code",
   "execution_count": 23,
   "metadata": {},
   "outputs": [],
   "source": [
    "#K-Fold Cross-Validation\n",
    "def K_Fold(model, X, y, K, scaler=None, random_state=1945):\n",
    "    kf = KFold(n_splits=K, random_state=random_state, shuffle=True)\n",
    "    train_scores = []\n",
    "    test_scores = []\n",
    "    for idxTrain, idxTest in kf.split(X):\n",
    "        Xtrain = X[idxTrain]\n",
    "        Xtest = X[idxTest]\n",
    "        ytrain = y[idxTrain]\n",
    "        ytest = y[idxTest]\n",
    "        if scaler is not None:\n",
    "            Xtrain = scaler.fit_transform(Xtrain)\n",
    "            Xtest = scaler.transform(Xtest)\n",
    "        model.fit(Xtrain, ytrain)\n",
    "        train_scores.append(model.score(Xtrain, ytrain))\n",
    "        test_scores.append(model.score(Xtest, ytest))\n",
    "    return train_scores, test_scores"
   ]
  },
  {
   "cell_type": "code",
   "execution_count": 24,
   "metadata": {},
   "outputs": [],
   "source": [
    "#Converting X & y to correct format for use in K-Fold Cross-Validation\n",
    "X = np.array(df_2.drop(columns='Overall Sink Percentage'))\n",
    "y = df_2['Overall Sink Percentage'].values"
   ]
  },
  {
   "cell_type": "code",
   "execution_count": 25,
   "metadata": {},
   "outputs": [
    {
     "name": "stdout",
     "output_type": "stream",
     "text": [
      "K_Fold Linear Regression Train Score (R²):   0.06456963768865596\n",
      "K_Fold Linear Regression Testing Score (R²): -0.11782062329795433\n"
     ]
    }
   ],
   "source": [
    "#K-Fold Cross-Validation Linear Regression\n",
    "train_scores, test_scores = K_Fold(LR_model, X, y, 10, SS)\n",
    "print('K_Fold Linear Regression Train Score (R\\u00b2):  ', np.mean(train_scores))\n",
    "print('K_Fold Linear Regression Testing Score (R\\u00b2):', np.mean(test_scores))"
   ]
  },
  {
   "cell_type": "markdown",
   "metadata": {},
   "source": [
    "Attempting Ridge Regression for a better fitting model:"
   ]
  },
  {
   "cell_type": "code",
   "execution_count": 26,
   "metadata": {},
   "outputs": [],
   "source": [
    "#Find Optimal Alpha Value\n",
    "a_range = np.linspace(0,300,151) \n",
    "avg_tr_score = []\n",
    "avg_te_score = []\n",
    "for a in a_range:\n",
    "    rid_reg = Ridge(alpha=a, max_iter=10000)\n",
    "    train_scores, test_scores = K_Fold(rid_reg, X, y, 10, SS)\n",
    "    avg_tr_score.append(np.mean(train_scores))\n",
    "    avg_te_score.append(np.mean(test_scores))\n",
    "#print(a_range)"
   ]
  },
  {
   "cell_type": "code",
   "execution_count": 27,
   "metadata": {},
   "outputs": [
    {
     "name": "stdout",
     "output_type": "stream",
     "text": [
      "Optimal α Value: 254.0\n"
     ]
    }
   ],
   "source": [
    "#Find Optimal Alpha Value\n",
    "alpha_max = a_range[np.argmax(avg_te_score)]\n",
    "print('Optimal \\u03B1 Value:', alpha_max)"
   ]
  },
  {
   "cell_type": "code",
   "execution_count": 28,
   "metadata": {},
   "outputs": [
    {
     "data": {
      "image/png": "[encoded data removed]",
      "text/plain": [
       "<Figure size 600x600 with 1 Axes>"
      ]
     },
     "metadata": {},
     "output_type": "display_data"
    }
   ],
   "source": [
    "#Plotting different alpha and respectice train & test scores\n",
    "plt.figure(figsize=(6,6))\n",
    "plt.plot(a_range, avg_tr_score, color='k', label='Training')\n",
    "plt.plot(a_range, avg_te_score, color='r', label='Testing')\n",
    "plt.title('Various $\\\\alpha$ Values and Corresponding Average $R^2$')\n",
    "plt.xlabel('$\\\\alpha$', fontsize=14)\n",
    "plt.ylabel('Average $R^2$', fontsize=14)\n",
    "for spine in plt.gca().spines.values():\n",
    "    spine.set_visible(False)\n",
    "plt.legend()\n",
    "plt.show()"
   ]
  },
  {
   "cell_type": "code",
   "execution_count": 29,
   "metadata": {},
   "outputs": [
    {
     "name": "stdout",
     "output_type": "stream",
     "text": [
      "K_Fold Ridge Regression Train Score (R²): 0.04408764793941331\n",
      "K_Fold Ridge Regression Test Score (R²): -0.0842159310729093\n"
     ]
    }
   ],
   "source": [
    "rid_reg = Ridge(alpha=98, max_iter=10000) #Using optimal alpha value\n",
    "train_scores, test_scores = K_Fold(rid_reg, X, y, 10, SS)\n",
    "print('K_Fold Ridge Regression Train Score (R\\u00b2):', np.mean(train_scores))\n",
    "print('K_Fold Ridge Regression Test Score (R\\u00b2):',np.mean(test_scores))"
   ]
  },
  {
   "cell_type": "markdown",
   "metadata": {},
   "source": [
    "Ridge Regression does not fit the model any better than Linear Regression. A new approach must be taken to get a prediction model. Duration of the convoy will be introduced as a new feature. Additionally, models capturing non-linear relationships will be tried.\n"
   ]
  },
  {
   "cell_type": "code",
   "execution_count": 30,
   "metadata": {},
   "outputs": [
    {
     "data": {
      "text/html": [
       "<div>\n",
       "<style scoped>\n",
       "    .dataframe tbody tr th:only-of-type {\n",
       "        vertical-align: middle;\n",
       "    }\n",
       "\n",
       "    .dataframe tbody tr th {\n",
       "        vertical-align: top;\n",
       "    }\n",
       "\n",
       "    .dataframe thead th {\n",
       "        text-align: right;\n",
       "    }\n",
       "</style>\n",
       "<table border=\"1\" class=\"dataframe\">\n",
       "  <thead>\n",
       "    <tr style=\"text-align: right;\">\n",
       "      <th></th>\n",
       "      <th>Number of Ships</th>\n",
       "      <th>Number of Escort Ships</th>\n",
       "      <th>Number of Stragglers</th>\n",
       "      <th>Number of Ships Sunk</th>\n",
       "      <th>Number of Escorts Sunk</th>\n",
       "      <th>Number of Stragglers Sunk</th>\n",
       "      <th>Total Tons of Convoy</th>\n",
       "      <th>Total Tons of Ships Sunk</th>\n",
       "      <th>Overall Sink Percentage</th>\n",
       "      <th>Escort Sink Percentage</th>\n",
       "      <th>Straggler Sink Percentage</th>\n",
       "      <th>Time At Sea (Days)</th>\n",
       "    </tr>\n",
       "  </thead>\n",
       "  <tbody>\n",
       "    <tr>\n",
       "      <th>count</th>\n",
       "      <td>187.000000</td>\n",
       "      <td>187.000000</td>\n",
       "      <td>187.000000</td>\n",
       "      <td>187.000000</td>\n",
       "      <td>187.000000</td>\n",
       "      <td>187.000000</td>\n",
       "      <td>187.000000</td>\n",
       "      <td>187.000000</td>\n",
       "      <td>187.000000</td>\n",
       "      <td>187.000000</td>\n",
       "      <td>187.000000</td>\n",
       "      <td>187.000000</td>\n",
       "    </tr>\n",
       "    <tr>\n",
       "      <th>mean</th>\n",
       "      <td>52.770053</td>\n",
       "      <td>11.978610</td>\n",
       "      <td>1.021390</td>\n",
       "      <td>3.026738</td>\n",
       "      <td>0.101604</td>\n",
       "      <td>0.593583</td>\n",
       "      <td>225619.684492</td>\n",
       "      <td>16732.144385</td>\n",
       "      <td>5.987479</td>\n",
       "      <td>0.739089</td>\n",
       "      <td>35.762032</td>\n",
       "      <td>11.770053</td>\n",
       "    </tr>\n",
       "    <tr>\n",
       "      <th>std</th>\n",
       "      <td>19.159645</td>\n",
       "      <td>6.983819</td>\n",
       "      <td>1.863507</td>\n",
       "      <td>3.188408</td>\n",
       "      <td>0.352178</td>\n",
       "      <td>0.877166</td>\n",
       "      <td>102887.574786</td>\n",
       "      <td>17402.838115</td>\n",
       "      <td>5.825640</td>\n",
       "      <td>2.638490</td>\n",
       "      <td>45.738687</td>\n",
       "      <td>5.920219</td>\n",
       "    </tr>\n",
       "    <tr>\n",
       "      <th>min</th>\n",
       "      <td>9.000000</td>\n",
       "      <td>1.000000</td>\n",
       "      <td>0.000000</td>\n",
       "      <td>1.000000</td>\n",
       "      <td>0.000000</td>\n",
       "      <td>0.000000</td>\n",
       "      <td>49474.000000</td>\n",
       "      <td>925.000000</td>\n",
       "      <td>0.990099</td>\n",
       "      <td>0.000000</td>\n",
       "      <td>0.000000</td>\n",
       "      <td>2.000000</td>\n",
       "    </tr>\n",
       "    <tr>\n",
       "      <th>25%</th>\n",
       "      <td>40.500000</td>\n",
       "      <td>7.000000</td>\n",
       "      <td>0.000000</td>\n",
       "      <td>1.000000</td>\n",
       "      <td>0.000000</td>\n",
       "      <td>0.000000</td>\n",
       "      <td>150775.500000</td>\n",
       "      <td>6021.500000</td>\n",
       "      <td>2.127660</td>\n",
       "      <td>0.000000</td>\n",
       "      <td>0.000000</td>\n",
       "      <td>5.000000</td>\n",
       "    </tr>\n",
       "    <tr>\n",
       "      <th>50%</th>\n",
       "      <td>49.000000</td>\n",
       "      <td>11.000000</td>\n",
       "      <td>0.000000</td>\n",
       "      <td>2.000000</td>\n",
       "      <td>0.000000</td>\n",
       "      <td>0.000000</td>\n",
       "      <td>208323.000000</td>\n",
       "      <td>9034.000000</td>\n",
       "      <td>3.846154</td>\n",
       "      <td>0.000000</td>\n",
       "      <td>0.000000</td>\n",
       "      <td>14.000000</td>\n",
       "    </tr>\n",
       "    <tr>\n",
       "      <th>75%</th>\n",
       "      <td>63.500000</td>\n",
       "      <td>17.000000</td>\n",
       "      <td>1.000000</td>\n",
       "      <td>4.000000</td>\n",
       "      <td>0.000000</td>\n",
       "      <td>1.000000</td>\n",
       "      <td>266905.500000</td>\n",
       "      <td>19386.500000</td>\n",
       "      <td>8.077843</td>\n",
       "      <td>0.000000</td>\n",
       "      <td>100.000000</td>\n",
       "      <td>16.000000</td>\n",
       "    </tr>\n",
       "    <tr>\n",
       "      <th>max</th>\n",
       "      <td>124.000000</td>\n",
       "      <td>34.000000</td>\n",
       "      <td>16.000000</td>\n",
       "      <td>20.000000</td>\n",
       "      <td>3.000000</td>\n",
       "      <td>5.000000</td>\n",
       "      <td>712910.000000</td>\n",
       "      <td>93502.000000</td>\n",
       "      <td>46.511628</td>\n",
       "      <td>16.666667</td>\n",
       "      <td>100.000000</td>\n",
       "      <td>25.000000</td>\n",
       "    </tr>\n",
       "  </tbody>\n",
       "</table>\n",
       "</div>"
      ],
      "text/plain": [
       "       Number of Ships  Number of Escort Ships  Number of Stragglers  \\\n",
       "count       187.000000              187.000000            187.000000   \n",
       "mean         52.770053               11.978610              1.021390   \n",
       "std          19.159645                6.983819              1.863507   \n",
       "min           9.000000                1.000000              0.000000   \n",
       "25%          40.500000                7.000000              0.000000   \n",
       "50%          49.000000               11.000000              0.000000   \n",
       "75%          63.500000               17.000000              1.000000   \n",
       "max         124.000000               34.000000             16.000000   \n",
       "\n",
       "       Number of Ships Sunk  Number of Escorts Sunk  \\\n",
       "count            187.000000              187.000000   \n",
       "mean               3.026738                0.101604   \n",
       "std                3.188408                0.352178   \n",
       "min                1.000000                0.000000   \n",
       "25%                1.000000                0.000000   \n",
       "50%                2.000000                0.000000   \n",
       "75%                4.000000                0.000000   \n",
       "max               20.000000                3.000000   \n",
       "\n",
       "       Number of Stragglers Sunk  Total Tons of Convoy  \\\n",
       "count                 187.000000            187.000000   \n",
       "mean                    0.593583         225619.684492   \n",
       "std                     0.877166         102887.574786   \n",
       "min                     0.000000          49474.000000   \n",
       "25%                     0.000000         150775.500000   \n",
       "50%                     0.000000         208323.000000   \n",
       "75%                     1.000000         266905.500000   \n",
       "max                     5.000000         712910.000000   \n",
       "\n",
       "       Total Tons of Ships Sunk  Overall Sink Percentage  \\\n",
       "count                187.000000               187.000000   \n",
       "mean               16732.144385                 5.987479   \n",
       "std                17402.838115                 5.825640   \n",
       "min                  925.000000                 0.990099   \n",
       "25%                 6021.500000                 2.127660   \n",
       "50%                 9034.000000                 3.846154   \n",
       "75%                19386.500000                 8.077843   \n",
       "max                93502.000000                46.511628   \n",
       "\n",
       "       Escort Sink Percentage  Straggler Sink Percentage  Time At Sea (Days)  \n",
       "count              187.000000                 187.000000          187.000000  \n",
       "mean                 0.739089                  35.762032           11.770053  \n",
       "std                  2.638490                  45.738687            5.920219  \n",
       "min                  0.000000                   0.000000            2.000000  \n",
       "25%                  0.000000                   0.000000            5.000000  \n",
       "50%                  0.000000                   0.000000           14.000000  \n",
       "75%                  0.000000                 100.000000           16.000000  \n",
       "max                 16.666667                 100.000000           25.000000  "
      ]
     },
     "execution_count": 30,
     "metadata": {},
     "output_type": "execute_result"
    }
   ],
   "source": [
    "df_3 = pd.read_csv('Excel_Files/Complete_Data/Sink_Cases_Only.csv')\n",
    "df_3 = df_3.drop(columns=['Unnamed: 0'])\n",
    "df_3['Depart_Date'] = pd.to_datetime(df_3['Depart_Date'])\n",
    "df_3['Arrival/Dispersal Date'] = pd.to_datetime(df_3['Arrival/Dispersal Date'])\n",
    "df_3['Time At Sea (Days)'] = (df_3['Arrival/Dispersal Date'] - df_3['Depart_Date']).dt.days\n",
    "df_3.describe()"
   ]
  },
  {
   "cell_type": "code",
   "execution_count": 54,
   "metadata": {},
   "outputs": [],
   "source": [
    "X = df_3.drop(columns=['Convoy Number', 'Number of Ships Sunk', 'Number of Escorts Sunk', 'Number of Stragglers Sunk', \\\n",
    "                       'Total Tons of Ships Sunk', 'Depart_Date', 'Arrival/Dispersal Date', 'Overall Sink Percentage', \\\n",
    "                        'Escort Sink Percentage', 'Straggler Sink Percentage']) #Drop all irrelevant features\n",
    "y = df_3['Overall Sink Percentage'] #Target for prediction models\n",
    "X_train, X_test, y_train, y_test = train_test_split(X, y, train_size=0.8, random_state=1945) \n",
    "#(X_train.shape, X_test.shape, y_train.shape, y_test.shape)"
   ]
  },
  {
   "cell_type": "code",
   "execution_count": 55,
   "metadata": {},
   "outputs": [
    {
     "data": {
      "text/html": [
       "<div>\n",
       "<style scoped>\n",
       "    .dataframe tbody tr th:only-of-type {\n",
       "        vertical-align: middle;\n",
       "    }\n",
       "\n",
       "    .dataframe tbody tr th {\n",
       "        vertical-align: top;\n",
       "    }\n",
       "\n",
       "    .dataframe thead th {\n",
       "        text-align: right;\n",
       "    }\n",
       "</style>\n",
       "<table border=\"1\" class=\"dataframe\">\n",
       "  <thead>\n",
       "    <tr style=\"text-align: right;\">\n",
       "      <th></th>\n",
       "      <th>Number of Ships</th>\n",
       "      <th>Number of Escort Ships</th>\n",
       "      <th>Number of Stragglers</th>\n",
       "      <th>Total Tons of Convoy</th>\n",
       "      <th>Time At Sea (Days)</th>\n",
       "    </tr>\n",
       "  </thead>\n",
       "  <tbody>\n",
       "    <tr>\n",
       "      <th>count</th>\n",
       "      <td>187.000000</td>\n",
       "      <td>187.000000</td>\n",
       "      <td>187.000000</td>\n",
       "      <td>187.000000</td>\n",
       "      <td>187.000000</td>\n",
       "    </tr>\n",
       "    <tr>\n",
       "      <th>mean</th>\n",
       "      <td>52.770053</td>\n",
       "      <td>11.978610</td>\n",
       "      <td>1.021390</td>\n",
       "      <td>225619.684492</td>\n",
       "      <td>11.770053</td>\n",
       "    </tr>\n",
       "    <tr>\n",
       "      <th>std</th>\n",
       "      <td>19.159645</td>\n",
       "      <td>6.983819</td>\n",
       "      <td>1.863507</td>\n",
       "      <td>102887.574786</td>\n",
       "      <td>5.920219</td>\n",
       "    </tr>\n",
       "    <tr>\n",
       "      <th>min</th>\n",
       "      <td>9.000000</td>\n",
       "      <td>1.000000</td>\n",
       "      <td>0.000000</td>\n",
       "      <td>49474.000000</td>\n",
       "      <td>2.000000</td>\n",
       "    </tr>\n",
       "    <tr>\n",
       "      <th>25%</th>\n",
       "      <td>40.500000</td>\n",
       "      <td>7.000000</td>\n",
       "      <td>0.000000</td>\n",
       "      <td>150775.500000</td>\n",
       "      <td>5.000000</td>\n",
       "    </tr>\n",
       "    <tr>\n",
       "      <th>50%</th>\n",
       "      <td>49.000000</td>\n",
       "      <td>11.000000</td>\n",
       "      <td>0.000000</td>\n",
       "      <td>208323.000000</td>\n",
       "      <td>14.000000</td>\n",
       "    </tr>\n",
       "    <tr>\n",
       "      <th>75%</th>\n",
       "      <td>63.500000</td>\n",
       "      <td>17.000000</td>\n",
       "      <td>1.000000</td>\n",
       "      <td>266905.500000</td>\n",
       "      <td>16.000000</td>\n",
       "    </tr>\n",
       "    <tr>\n",
       "      <th>max</th>\n",
       "      <td>124.000000</td>\n",
       "      <td>34.000000</td>\n",
       "      <td>16.000000</td>\n",
       "      <td>712910.000000</td>\n",
       "      <td>25.000000</td>\n",
       "    </tr>\n",
       "  </tbody>\n",
       "</table>\n",
       "</div>"
      ],
      "text/plain": [
       "       Number of Ships  Number of Escort Ships  Number of Stragglers  \\\n",
       "count       187.000000              187.000000            187.000000   \n",
       "mean         52.770053               11.978610              1.021390   \n",
       "std          19.159645                6.983819              1.863507   \n",
       "min           9.000000                1.000000              0.000000   \n",
       "25%          40.500000                7.000000              0.000000   \n",
       "50%          49.000000               11.000000              0.000000   \n",
       "75%          63.500000               17.000000              1.000000   \n",
       "max         124.000000               34.000000             16.000000   \n",
       "\n",
       "       Total Tons of Convoy  Time At Sea (Days)  \n",
       "count            187.000000          187.000000  \n",
       "mean          225619.684492           11.770053  \n",
       "std           102887.574786            5.920219  \n",
       "min            49474.000000            2.000000  \n",
       "25%           150775.500000            5.000000  \n",
       "50%           208323.000000           14.000000  \n",
       "75%           266905.500000           16.000000  \n",
       "max           712910.000000           25.000000  "
      ]
     },
     "execution_count": 55,
     "metadata": {},
     "output_type": "execute_result"
    }
   ],
   "source": [
    "X.describe()"
   ]
  },
  {
   "cell_type": "code",
   "execution_count": 60,
   "metadata": {},
   "outputs": [
    {
     "name": "stdout",
     "output_type": "stream",
     "text": [
      "KNN Train Score (Mean Accuracy): 0.2502184272633997\n",
      "KNN Test Score (Mean Accuracy): -0.6461541440388967\n",
      "KNN Mean Squared Error 19.595495504417123\n"
     ]
    }
   ],
   "source": [
    "#K Nearest Neighbors Model\n",
    "knn = KNeighborsRegressor(n_neighbors=5)\n",
    "X_train_scaled = SS.fit_transform(X_train)\n",
    "knn.fit(X_train_scaled, y_train)\n",
    "y_predict_knn = knn.predict(SS.transform(X_test))\n",
    "mse_knn = mean_squared_error(y_test, y_predict_knn)\n",
    "r2_knn = r2_score(y_test, y_predict_knn)\n",
    "print('KNN Train Score (Mean Accuracy):', knn.score(X_train_scaled, y_train))\n",
    "print('KNN Test Score (Mean Accuracy):', knn.score(SS.transform(X_test), y_test))\n",
    "print('KNN Mean Squared Error', mse_knn)"
   ]
  },
  {
   "cell_type": "code",
   "execution_count": 52,
   "metadata": {},
   "outputs": [],
   "source": [
    "#Converting X & y to correct format for use in K-Fold Cross-Validation\n",
    "X = np.array(df_3.drop(columns=['Convoy Number', 'Number of Ships Sunk', 'Number of Escorts Sunk', 'Number of Stragglers Sunk', \\\n",
    "                       'Total Tons of Ships Sunk', 'Depart_Date', 'Arrival/Dispersal Date', 'Overall Sink Percentage', \\\n",
    "                        'Escort Sink Percentage', 'Straggler Sink Percentage'])) #Drop all irrelevant features\n",
    "y = df_3['Overall Sink Percentage'].values #Target for prediction models"
   ]
  },
  {
   "cell_type": "code",
   "execution_count": 53,
   "metadata": {},
   "outputs": [
    {
     "name": "stdout",
     "output_type": "stream",
     "text": [
      "K-Fold KNN Train Score (Mean Accuracy): 0.24575866803666999\n",
      "K-Fold KNN Test Score (Mean Accuracy): -0.3248824720012469\n"
     ]
    }
   ],
   "source": [
    "#K-Fold for KNN\n",
    "train_scores, test_scores = K_Fold(knn, X, y, 10, SS)\n",
    "print('K-Fold KNN Train Score (Mean Accuracy):', np.mean(train_scores))\n",
    "print('K-Fold KNN Test Score (Mean Accuracy):',np.mean(test_scores))"
   ]
  },
  {
   "cell_type": "code",
   "execution_count": 36,
   "metadata": {},
   "outputs": [
    {
     "name": "stdout",
     "output_type": "stream",
     "text": [
      "Fitting 5 folds for each of 3 candidates, totalling 15 fits\n",
      "{'n_estimators': 250}\n",
      "Best Score: -45.33290324375262\n"
     ]
    }
   ],
   "source": [
    "#Cross-validation for optimal n_estimators\n",
    "param_grid = {'n_estimators': [245, 250, 255]}\n",
    "RF_Model = RandomForestRegressor(random_state=1945)\n",
    "grid_search = GridSearchCV(estimator=RF_Model, param_grid=param_grid, cv=5, scoring='neg_mean_squared_error', verbose=1, n_jobs=-1)\n",
    "grid_search.fit(X_train, y_train)\n",
    "best_param = grid_search.best_params_\n",
    "best_score = grid_search.best_score_\n",
    "print(best_param)\n",
    "print('Best Score:', best_score)"
   ]
  },
  {
   "cell_type": "code",
   "execution_count": 37,
   "metadata": {},
   "outputs": [
    {
     "name": "stdout",
     "output_type": "stream",
     "text": [
      "Random Forest Regressor Train Score (Mean Accuracy): 0.8411792635770188\n",
      "Random Forest Regressor Test Score (Mean Accuracy): -0.7816693075877754\n",
      "Random Forest Regressor Mean Squared Error 21.208641386118742\n"
     ]
    }
   ],
   "source": [
    "#Random Forest Regressor Model\n",
    "Ran_Forest_Model = RandomForestRegressor(n_estimators=250, random_state=1945) #n_estimators can be optimized using cross-validation\n",
    "Ran_Forest_Model.fit(X_train, y_train)\n",
    "y_predict = Ran_Forest_Model.predict(X_test)\n",
    "RFR_mse = mean_squared_error(y_test, y_predict)\n",
    "RFR_r2 = r2_score(y_test, y_predict)\n",
    "print('Random Forest Regressor Train Score (Mean Accuracy):', Ran_Forest_Model.score(X_train, y_train))\n",
    "print('Random Forest Regressor Test Score (Mean Accuracy):', Ran_Forest_Model.score(X_test, y_test))\n",
    "print('Random Forest Regressor Mean Squared Error', RFR_mse)"
   ]
  },
  {
   "cell_type": "code",
   "execution_count": 38,
   "metadata": {},
   "outputs": [
    {
     "name": "stdout",
     "output_type": "stream",
     "text": [
      "K_Fold Random Forest Regressor Train Score (R²): 0.8461765600876756\n",
      "K_Fold Random Forest Regressor Test Score (R²): -0.3279330687631581\n"
     ]
    }
   ],
   "source": [
    "train_scores, test_scores = K_Fold(Ran_Forest_Model, X, y, 10, )\n",
    "print('K_Fold Random Forest Regressor Train Score (R\\u00b2):', np.mean(train_scores))\n",
    "print('K_Fold Random Forest Regressor Test Score (R\\u00b2):',np.mean(test_scores))"
   ]
  },
  {
   "cell_type": "markdown",
   "metadata": {},
   "source": [
    "The random forest regressor model fits well to training data, much better than linear or ridge regression. However, the negative test score indicates the model is still overfitting the training data."
   ]
  },
  {
   "cell_type": "code",
   "execution_count": 39,
   "metadata": {},
   "outputs": [
    {
     "data": {
      "image/png": "[encoded data removed]",
      "text/plain": [
       "<Figure size 600x400 with 1 Axes>"
      ]
     },
     "metadata": {},
     "output_type": "display_data"
    }
   ],
   "source": [
    "#Plot Feature Importance\n",
    "df_5 = df_3.drop(columns=['Convoy Number', 'Number of Ships Sunk', 'Number of Escorts Sunk', 'Number of Stragglers Sunk', \\\n",
    "                       'Total Tons of Ships Sunk', 'Depart_Date', 'Arrival/Dispersal Date', 'Overall Sink Percentage', \\\n",
    "                        'Escort Sink Percentage', 'Straggler Sink Percentage']) #Drop all irrelevant features\n",
    "feat_importances = Ran_Forest_Model.feature_importances_\n",
    "features = df_5.columns\n",
    "indices = np.argsort(feat_importances)[::-1]\n",
    "plt.figure(figsize=(6, 4))\n",
    "plt.bar(range(X_train.shape[1]), feat_importances[indices], color='#359af2')\n",
    "plt.title('Feature Importance In \\n Random Forest Regressor Model')\n",
    "plt.xlabel('Features')\n",
    "plt.ylabel('Feature Importance')\n",
    "plt.xticks(range(X_train.shape[1]), features[indices], fontsize=6, rotation=20)\n",
    "for spine in plt.gca().spines.values():\n",
    "    spine.set_visible(False)\n",
    "plt.show()"
   ]
  },
  {
   "cell_type": "code",
   "execution_count": 40,
   "metadata": {},
   "outputs": [
    {
     "name": "stdout",
     "output_type": "stream",
     "text": [
      "Gradient Boosting Regressor Train Score (R²): 0.8833259404190054\n",
      "Gradient Boosting Regressor Test Score (R²): -0.6457758668895888\n",
      "Gradient Boosting Regressor Mean Squared Error 19.590992567553325\n"
     ]
    }
   ],
   "source": [
    "#Gradient Boosting model\n",
    "GB_model = GradientBoostingRegressor(random_state=1945)\n",
    "GB_model.fit(X_train, y_train)\n",
    "y_predict = GB_model.predict(X_test)\n",
    "GB_mse = mean_squared_error(y_test, y_predict)\n",
    "print('Gradient Boosting Regressor Train Score (Mean Accuracy):', GB_model.score(X_train, y_train))\n",
    "print('Gradient Boosting Regressor Test Score (Mean Accuracy):', GB_model.score(X_test, y_test))\n",
    "print('Gradient Boosting Regressor Mean Squared Error', GB_mse)"
   ]
  },
  {
   "cell_type": "code",
   "execution_count": 41,
   "metadata": {},
   "outputs": [
    {
     "name": "stdout",
     "output_type": "stream",
     "text": [
      "K_Fold Gradient Boosting Train Score (R²): 0.8629370515235028\n",
      "K_Fold Gradient Boosting Test Score (R²): -0.4860677696147954\n"
     ]
    }
   ],
   "source": [
    "train_scores, test_scores = K_Fold(GB_model, X, y, 10, )\n",
    "print('K_Fold Gradient Boosting Train Score (Mean Accuracy):', np.mean(train_scores))\n",
    "print('K_Fold Gradient Boosting Test Score (Mean Accuracy):',np.mean(test_scores))"
   ]
  },
  {
   "cell_type": "markdown",
   "metadata": {},
   "source": [
    "Examining the whole data set again and not just cases where at least one ship was sunk:"
   ]
  },
  {
   "cell_type": "code",
   "execution_count": 43,
   "metadata": {},
   "outputs": [
    {
     "data": {
      "text/html": [
       "<div>\n",
       "<style scoped>\n",
       "    .dataframe tbody tr th:only-of-type {\n",
       "        vertical-align: middle;\n",
       "    }\n",
       "\n",
       "    .dataframe tbody tr th {\n",
       "        vertical-align: top;\n",
       "    }\n",
       "\n",
       "    .dataframe thead th {\n",
       "        text-align: right;\n",
       "    }\n",
       "</style>\n",
       "<table border=\"1\" class=\"dataframe\">\n",
       "  <thead>\n",
       "    <tr style=\"text-align: right;\">\n",
       "      <th></th>\n",
       "      <th>Number of Ships</th>\n",
       "      <th>Number of Escort Ships</th>\n",
       "      <th>Number of Stragglers</th>\n",
       "      <th>Number of Ships Sunk</th>\n",
       "      <th>Number of Escorts Sunk</th>\n",
       "      <th>Number of Stragglers Sunk</th>\n",
       "      <th>Total Tons of Convoy</th>\n",
       "      <th>Total Tons of Ships Sunk</th>\n",
       "      <th>Overall Sink Percentage</th>\n",
       "      <th>Escort Sink Percentage</th>\n",
       "      <th>Straggler Sink Percentage</th>\n",
       "      <th>Time At Sea (Days)</th>\n",
       "    </tr>\n",
       "  </thead>\n",
       "  <tbody>\n",
       "    <tr>\n",
       "      <th>count</th>\n",
       "      <td>816.000000</td>\n",
       "      <td>816.000000</td>\n",
       "      <td>816.000000</td>\n",
       "      <td>816.000000</td>\n",
       "      <td>816.000000</td>\n",
       "      <td>816.000000</td>\n",
       "      <td>8.160000e+02</td>\n",
       "      <td>816.000000</td>\n",
       "      <td>816.000000</td>\n",
       "      <td>816.000000</td>\n",
       "      <td>816.000000</td>\n",
       "      <td>816.000000</td>\n",
       "    </tr>\n",
       "    <tr>\n",
       "      <th>mean</th>\n",
       "      <td>52.851716</td>\n",
       "      <td>12.613971</td>\n",
       "      <td>0.479167</td>\n",
       "      <td>0.666667</td>\n",
       "      <td>0.022059</td>\n",
       "      <td>0.131127</td>\n",
       "      <td>2.443570e+05</td>\n",
       "      <td>3684.169118</td>\n",
       "      <td>1.321174</td>\n",
       "      <td>0.161715</td>\n",
       "      <td>7.827819</td>\n",
       "      <td>11.718137</td>\n",
       "    </tr>\n",
       "    <tr>\n",
       "      <th>std</th>\n",
       "      <td>26.870767</td>\n",
       "      <td>8.712969</td>\n",
       "      <td>1.556166</td>\n",
       "      <td>1.950722</td>\n",
       "      <td>0.170178</td>\n",
       "      <td>0.481523</td>\n",
       "      <td>1.487340e+05</td>\n",
       "      <td>10620.468503</td>\n",
       "      <td>3.693149</td>\n",
       "      <td>1.280630</td>\n",
       "      <td>25.937052</td>\n",
       "      <td>5.677982</td>\n",
       "    </tr>\n",
       "    <tr>\n",
       "      <th>min</th>\n",
       "      <td>0.000000</td>\n",
       "      <td>0.000000</td>\n",
       "      <td>0.000000</td>\n",
       "      <td>0.000000</td>\n",
       "      <td>0.000000</td>\n",
       "      <td>0.000000</td>\n",
       "      <td>0.000000e+00</td>\n",
       "      <td>0.000000</td>\n",
       "      <td>0.000000</td>\n",
       "      <td>0.000000</td>\n",
       "      <td>0.000000</td>\n",
       "      <td>1.000000</td>\n",
       "    </tr>\n",
       "    <tr>\n",
       "      <th>25%</th>\n",
       "      <td>34.000000</td>\n",
       "      <td>6.000000</td>\n",
       "      <td>0.000000</td>\n",
       "      <td>0.000000</td>\n",
       "      <td>0.000000</td>\n",
       "      <td>0.000000</td>\n",
       "      <td>1.421835e+05</td>\n",
       "      <td>0.000000</td>\n",
       "      <td>0.000000</td>\n",
       "      <td>0.000000</td>\n",
       "      <td>0.000000</td>\n",
       "      <td>5.000000</td>\n",
       "    </tr>\n",
       "    <tr>\n",
       "      <th>50%</th>\n",
       "      <td>49.000000</td>\n",
       "      <td>12.000000</td>\n",
       "      <td>0.000000</td>\n",
       "      <td>0.000000</td>\n",
       "      <td>0.000000</td>\n",
       "      <td>0.000000</td>\n",
       "      <td>2.083420e+05</td>\n",
       "      <td>0.000000</td>\n",
       "      <td>0.000000</td>\n",
       "      <td>0.000000</td>\n",
       "      <td>0.000000</td>\n",
       "      <td>14.000000</td>\n",
       "    </tr>\n",
       "    <tr>\n",
       "      <th>75%</th>\n",
       "      <td>68.000000</td>\n",
       "      <td>19.000000</td>\n",
       "      <td>0.000000</td>\n",
       "      <td>0.000000</td>\n",
       "      <td>0.000000</td>\n",
       "      <td>0.000000</td>\n",
       "      <td>3.103842e+05</td>\n",
       "      <td>0.000000</td>\n",
       "      <td>0.000000</td>\n",
       "      <td>0.000000</td>\n",
       "      <td>0.000000</td>\n",
       "      <td>16.000000</td>\n",
       "    </tr>\n",
       "    <tr>\n",
       "      <th>max</th>\n",
       "      <td>191.000000</td>\n",
       "      <td>47.000000</td>\n",
       "      <td>22.000000</td>\n",
       "      <td>20.000000</td>\n",
       "      <td>3.000000</td>\n",
       "      <td>5.000000</td>\n",
       "      <td>1.054593e+06</td>\n",
       "      <td>93502.000000</td>\n",
       "      <td>46.511628</td>\n",
       "      <td>16.666667</td>\n",
       "      <td>100.000000</td>\n",
       "      <td>25.000000</td>\n",
       "    </tr>\n",
       "  </tbody>\n",
       "</table>\n",
       "</div>"
      ],
      "text/plain": [
       "       Number of Ships  Number of Escort Ships  Number of Stragglers  \\\n",
       "count       816.000000              816.000000            816.000000   \n",
       "mean         52.851716               12.613971              0.479167   \n",
       "std          26.870767                8.712969              1.556166   \n",
       "min           0.000000                0.000000              0.000000   \n",
       "25%          34.000000                6.000000              0.000000   \n",
       "50%          49.000000               12.000000              0.000000   \n",
       "75%          68.000000               19.000000              0.000000   \n",
       "max         191.000000               47.000000             22.000000   \n",
       "\n",
       "       Number of Ships Sunk  Number of Escorts Sunk  \\\n",
       "count            816.000000              816.000000   \n",
       "mean               0.666667                0.022059   \n",
       "std                1.950722                0.170178   \n",
       "min                0.000000                0.000000   \n",
       "25%                0.000000                0.000000   \n",
       "50%                0.000000                0.000000   \n",
       "75%                0.000000                0.000000   \n",
       "max               20.000000                3.000000   \n",
       "\n",
       "       Number of Stragglers Sunk  Total Tons of Convoy  \\\n",
       "count                 816.000000          8.160000e+02   \n",
       "mean                    0.131127          2.443570e+05   \n",
       "std                     0.481523          1.487340e+05   \n",
       "min                     0.000000          0.000000e+00   \n",
       "25%                     0.000000          1.421835e+05   \n",
       "50%                     0.000000          2.083420e+05   \n",
       "75%                     0.000000          3.103842e+05   \n",
       "max                     5.000000          1.054593e+06   \n",
       "\n",
       "       Total Tons of Ships Sunk  Overall Sink Percentage  \\\n",
       "count                816.000000               816.000000   \n",
       "mean                3684.169118                 1.321174   \n",
       "std                10620.468503                 3.693149   \n",
       "min                    0.000000                 0.000000   \n",
       "25%                    0.000000                 0.000000   \n",
       "50%                    0.000000                 0.000000   \n",
       "75%                    0.000000                 0.000000   \n",
       "max                93502.000000                46.511628   \n",
       "\n",
       "       Escort Sink Percentage  Straggler Sink Percentage  Time At Sea (Days)  \n",
       "count              816.000000                 816.000000          816.000000  \n",
       "mean                 0.161715                   7.827819           11.718137  \n",
       "std                  1.280630                  25.937052            5.677982  \n",
       "min                  0.000000                   0.000000            1.000000  \n",
       "25%                  0.000000                   0.000000            5.000000  \n",
       "50%                  0.000000                   0.000000           14.000000  \n",
       "75%                  0.000000                   0.000000           16.000000  \n",
       "max                 16.666667                 100.000000           25.000000  "
      ]
     },
     "execution_count": 43,
     "metadata": {},
     "output_type": "execute_result"
    }
   ],
   "source": [
    "df_4 = pd.read_csv('SC-OB-HX-Data.csv')\n",
    "df_4 = df_4.drop(columns=['Unnamed: 0'])\n",
    "df_4 = df_4[df_4['Arrival/Dispersal Date'] != '0']\n",
    "df_4['Depart_Date'] = pd.to_datetime(df_4['Depart_Date'])\n",
    "df_4['Arrival/Dispersal Date'] = pd.to_datetime(df_4['Arrival/Dispersal Date'])\n",
    "df_4['Time At Sea (Days)'] = (df_4['Arrival/Dispersal Date'] - df_4['Depart_Date']).dt.days\n",
    "df_4.describe()\n"
   ]
  },
  {
   "cell_type": "code",
   "execution_count": 44,
   "metadata": {},
   "outputs": [],
   "source": [
    "X = df_4.drop(columns=['Convoy Number', 'Number of Ships Sunk', 'Number of Escorts Sunk', 'Number of Stragglers Sunk', \\\n",
    "                       'Total Tons of Ships Sunk', 'Depart_Date', 'Arrival/Dispersal Date', 'Overall Sink Percentage', \\\n",
    "                        'Escort Sink Percentage', 'Straggler Sink Percentage']) #Drop all irrelevant features\n",
    "y = df_4['Overall Sink Percentage'] #Target for prediction models\n",
    "X_train, X_test, y_train, y_test = train_test_split(X, y, train_size=0.8, random_state=1945) "
   ]
  },
  {
   "cell_type": "code",
   "execution_count": 45,
   "metadata": {},
   "outputs": [
    {
     "name": "stdout",
     "output_type": "stream",
     "text": [
      "Fitting 5 folds for each of 6 candidates, totalling 30 fits\n",
      "{'n_estimators': 388}\n",
      "Best Score: -14.643272615349739\n"
     ]
    }
   ],
   "source": [
    "#Cross-validation for optimal n_estimators\n",
    "param_grid = {'n_estimators': [395, 386, 387, 388, 389, 390]}\n",
    "RF_Model = RandomForestRegressor(random_state=1945)\n",
    "grid_search = GridSearchCV(estimator=RF_Model, param_grid=param_grid, cv=5, scoring='neg_mean_squared_error', verbose=1, n_jobs=-1)\n",
    "grid_search.fit(X_train, y_train)\n",
    "best_param = grid_search.best_params_\n",
    "best_score = grid_search.best_score_\n",
    "print(best_param)\n",
    "print('Best Score:', best_score)"
   ]
  },
  {
   "cell_type": "code",
   "execution_count": 46,
   "metadata": {},
   "outputs": [
    {
     "name": "stdout",
     "output_type": "stream",
     "text": [
      "Random Forest Regressor Train Score (R²): 0.8607234957371288\n",
      "Random Forest Regressor Test Score (R²): -0.0652198431944675\n",
      "Random Forest Regressor Mean Squared Error 13.033604184115635\n"
     ]
    }
   ],
   "source": [
    "#Random Forest Regressor Model\n",
    "Ran_Forest_Model = RandomForestRegressor(n_estimators=388, random_state=1945) #n_estimators can be optimized using cross-validation\n",
    "Ran_Forest_Model.fit(X_train, y_train)\n",
    "y_predict = Ran_Forest_Model.predict(X_test)\n",
    "RFR_mse = mean_squared_error(y_test, y_predict)\n",
    "print('Random Forest Regressor Train Score (R\\u00b2):', Ran_Forest_Model.score(X_train, y_train))\n",
    "print('Random Forest Regressor Test Score (R\\u00b2):', Ran_Forest_Model.score(X_test, y_test))\n",
    "print('Random Forest Regressor Mean Squared Error', RFR_mse)"
   ]
  },
  {
   "cell_type": "code",
   "execution_count": 47,
   "metadata": {},
   "outputs": [
    {
     "name": "stdout",
     "output_type": "stream",
     "text": [
      "Random Forest Regressor Train Score (R²): 0.7381172299168672\n",
      "Random Forest Regressor Test Score (R²): -0.07784115142305459\n",
      "Random Forest Regressor Mean Squared Error 13.18803346628504\n"
     ]
    }
   ],
   "source": [
    "#Gradient Boosting model\n",
    "GB_model = GradientBoostingRegressor(random_state=1945)\n",
    "GB_model.fit(X_train, y_train)\n",
    "y_predict = GB_model.predict(X_test)\n",
    "GB_mse = mean_squared_error(y_test, y_predict)\n",
    "print('Random Forest Regressor Train Score (R\\u00b2):', GB_model.score(X_train, y_train))\n",
    "print('Random Forest Regressor Test Score (R\\u00b2):', GB_model.score(X_test, y_test))\n",
    "print('Random Forest Regressor Mean Squared Error', GB_mse)"
   ]
  },
  {
   "cell_type": "markdown",
   "metadata": {},
   "source": [
    "K-Fold Cross Validation for df_4"
   ]
  },
  {
   "cell_type": "code",
   "execution_count": 48,
   "metadata": {},
   "outputs": [],
   "source": [
    "#Converting X & y to correct format for use in K-Fold Cross-Validation\n",
    "X = np.array(df_4.drop(columns=['Convoy Number', 'Number of Ships Sunk', 'Number of Escorts Sunk', 'Number of Stragglers Sunk', \\\n",
    "                       'Total Tons of Ships Sunk', 'Depart_Date', 'Arrival/Dispersal Date', 'Overall Sink Percentage', \\\n",
    "                        'Escort Sink Percentage', 'Straggler Sink Percentage'])) #Drop all irrelevant features\n",
    "y = df_4['Overall Sink Percentage'].values #Target for prediction models"
   ]
  },
  {
   "cell_type": "code",
   "execution_count": 49,
   "metadata": {},
   "outputs": [
    {
     "name": "stdout",
     "output_type": "stream",
     "text": [
      "K_Fold Random Forest Regressor Train Score (R²): 0.8555721017330307\n",
      "K_Fold Random Forest Regressor Test Score (R²): -0.1763765152167436\n"
     ]
    }
   ],
   "source": [
    "train_scores, test_scores = K_Fold(Ran_Forest_Model, X, y, 10, )\n",
    "print('K_Fold Random Forest Regressor Train Score (R\\u00b2):', np.mean(train_scores))\n",
    "print('K_Fold Random Forest Regressor Test Score (R\\u00b2):',np.mean(test_scores))"
   ]
  },
  {
   "cell_type": "code",
   "execution_count": 50,
   "metadata": {},
   "outputs": [
    {
     "name": "stdout",
     "output_type": "stream",
     "text": [
      "K_Fold Gradient Boosting Train Score (R²): 0.6752076741973634\n",
      "K_Fold RGradient Boosting Test Score (R²): -0.13251378645078385\n"
     ]
    }
   ],
   "source": [
    "train_scores, test_scores = K_Fold(GB_model, X, y, 10, )\n",
    "print('K_Fold Gradient Boosting Train Score (Mean Accuracy):', np.mean(train_scores))\n",
    "print('K_Fold RGradient Boosting Test Score (Mean Accuracy):',np.mean(test_scores))"
   ]
  },
  {
   "cell_type": "markdown",
   "metadata": {},
   "source": [
    "Although some models are able to fit well to the training data, none fit the test data properly. All test scores are negative indicating models that remain overfit to the data. From here, new features need to be introduced along with a larger data sample to capture more varaince.\n",
    "\n"
   ]
  },
  {
   "cell_type": "markdown",
   "metadata": {},
   "source": []
  }
 ],
 "metadata": {
  "kernelspec": {
   "display_name": "base",
   "language": "python",
   "name": "python3"
  },
  "language_info": {
   "codemirror_mode": {
    "name": "ipython",
    "version": 3
   },
   "file_extension": ".py",
   "mimetype": "text/x-python",
   "name": "python",
   "nbconvert_exporter": "python",
   "pygments_lexer": "ipython3",
   "version": "3.9.13"
  }
 },
 "nbformat": 4,
 "nbformat_minor": 2
}
